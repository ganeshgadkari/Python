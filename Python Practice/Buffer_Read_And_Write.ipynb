{
 "cells": [
  {
   "cell_type": "code",
   "execution_count": 1,
   "id": "544fcb6d-2f62-48f4-a234-cc28bfc42a7b",
   "metadata": {},
   "outputs": [],
   "source": [
    "import io"
   ]
  },
  {
   "cell_type": "code",
   "execution_count": 4,
   "id": "34c84c03-1730-467a-9eac-4ea7df2aab36",
   "metadata": {},
   "outputs": [],
   "source": [
    "with open(\"test2.txt\",\"wb\") as f:\n",
    "    file = io.BufferedWriter(f)\n",
    "    \n",
    "    file.write(b\"This is my first line\\n\")\n",
    "    file.write(b\"This is my second line\")\n",
    "    file.flush()"
   ]
  },
  {
   "cell_type": "code",
   "execution_count": 8,
   "id": "1608b00b-7c4f-4537-a17e-c99e8a878a84",
   "metadata": {},
   "outputs": [
    {
     "name": "stdout",
     "output_type": "stream",
     "text": [
      "b'This is my'\n"
     ]
    }
   ],
   "source": [
    "with open(\"test2.txt\",\"rb\") as f:\n",
    "    \n",
    "    file = io.BufferedReader(f)\n",
    "    print(file.read(10))"
   ]
  },
  {
   "cell_type": "code",
   "execution_count": null,
   "id": "0647ee7d-6fbc-45a6-8ab5-26e42d6943c8",
   "metadata": {},
   "outputs": [],
   "source": []
  }
 ],
 "metadata": {
  "kernelspec": {
   "display_name": "Python 3 (ipykernel)",
   "language": "python",
   "name": "python3"
  },
  "language_info": {
   "codemirror_mode": {
    "name": "ipython",
    "version": 3
   },
   "file_extension": ".py",
   "mimetype": "text/x-python",
   "name": "python",
   "nbconvert_exporter": "python",
   "pygments_lexer": "ipython3",
   "version": "3.10.8"
  }
 },
 "nbformat": 4,
 "nbformat_minor": 5
}
