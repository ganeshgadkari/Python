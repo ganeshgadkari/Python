{
 "cells": [
  {
   "cell_type": "code",
   "execution_count": 4,
   "id": "6e0761ea-6282-43e4-a026-66d750344c78",
   "metadata": {},
   "outputs": [
    {
     "name": "stdout",
     "output_type": "stream",
     "text": [
      "You will be part of A1 batch\n"
     ]
    }
   ],
   "source": [
    "marks = 65\n",
    "if marks >= 80 :\n",
    "    print(\"You will be part of A0 batch\")\n",
    "elif marks >=60 and marks < 80 :\n",
    "    print(\"You will be part of A1 batch\")\n",
    "elif marks >=40 and marks < 60 :\n",
    "    print(\"You will be part of A2 batch\")\n",
    "else :\n",
    "    print(\"You will be part of A3 batch\")"
   ]
  },
  {
   "cell_type": "code",
   "execution_count": 8,
   "id": "3020ba57-7771-4add-9fbf-3c8c1c191888",
   "metadata": {},
   "outputs": [
    {
     "name": "stdin",
     "output_type": "stream",
     "text": [
      "Enter marks :  65\n"
     ]
    },
    {
     "name": "stdout",
     "output_type": "stream",
     "text": [
      "You will be part of A1 batch\n"
     ]
    }
   ],
   "source": [
    "marks = int(input(\"Enter marks : \"))\n",
    "\n",
    "if marks >= 80 :\n",
    "    print(\"You will be part of A0 batch\")\n",
    "elif marks >=60 and marks < 80 :\n",
    "    print(\"You will be part of A1 batch\")\n",
    "elif marks >=40 and marks < 60 :\n",
    "    print(\"You will be part of A2 batch\")\n",
    "else :\n",
    "    print(\"You will be part of A3 batch\")"
   ]
  },
  {
   "cell_type": "code",
   "execution_count": 9,
   "id": "38cae44d-b597-486b-8152-d888d351bfe9",
   "metadata": {},
   "outputs": [
    {
     "name": "stdin",
     "output_type": "stream",
     "text": [
      "Enter Price :  500\n"
     ]
    },
    {
     "name": "stdout",
     "output_type": "stream",
     "text": [
      "i will purchase\n"
     ]
    }
   ],
   "source": [
    "price = int(input(\"Enter Price : \"))\n",
    "if price >1000 :\n",
    "    print(\"i will not purchase\")\n",
    "else :\n",
    "    print(\"i will purchase\")"
   ]
  },
  {
   "cell_type": "code",
   "execution_count": 10,
   "id": "56980813-b207-49a3-aed2-a4094e700832",
   "metadata": {},
   "outputs": [],
   "source": [
    "l= [1,2,3,4,5,6,7,8]"
   ]
  },
  {
   "cell_type": "code",
   "execution_count": 18,
   "id": "0ab50934-9c58-48fc-a312-e1979920a584",
   "metadata": {},
   "outputs": [
    {
     "name": "stdout",
     "output_type": "stream",
     "text": [
      "[2, 3, 4, 5, 6, 7, 8, 9]\n"
     ]
    }
   ],
   "source": [
    "i=0\n",
    "l1=[]\n",
    "for i in l :\n",
    "    l1.append(i+1)\n",
    "print(l1)"
   ]
  },
  {
   "cell_type": "code",
   "execution_count": 19,
   "id": "0844cfb1-eb30-458f-b621-3fa8053bd951",
   "metadata": {},
   "outputs": [],
   "source": [
    "l = [\"ganesh\",\"gadkari\",\"course\"]"
   ]
  },
  {
   "cell_type": "code",
   "execution_count": 20,
   "id": "4de97191-4a6d-4b96-aab2-d52382f29f65",
   "metadata": {},
   "outputs": [
    {
     "data": {
      "text/plain": [
       "['GANESH', 'GADKARI', 'COURSE']"
      ]
     },
     "execution_count": 20,
     "metadata": {},
     "output_type": "execute_result"
    }
   ],
   "source": [
    "l1 = []\n",
    "for i in l :\n",
    "    l1.append(i.upper())\n",
    "l1"
   ]
  },
  {
   "cell_type": "code",
   "execution_count": 21,
   "id": "c28204a4-6623-41d8-8e6f-6740087b926d",
   "metadata": {},
   "outputs": [],
   "source": [
    "l = [1,2,3,4,5,\"ganesh\",34.645]"
   ]
  },
  {
   "cell_type": "code",
   "execution_count": 25,
   "id": "75e29735-5a58-4e81-8db3-36e46bd56604",
   "metadata": {},
   "outputs": [],
   "source": [
    "l1=[]\n",
    "l2=[]\n",
    "l3=[]\n",
    "for i in l :\n",
    "    if type(i) == int :\n",
    "        l1.append(i)\n",
    "    elif type(i) == str:\n",
    "        l2.append(i)\n",
    "    else :\n",
    "        l3.append(i)"
   ]
  },
  {
   "cell_type": "code",
   "execution_count": 26,
   "id": "dad608ba-fbf9-4e0c-add3-0523ffcb95c4",
   "metadata": {},
   "outputs": [
    {
     "data": {
      "text/plain": [
       "[1, 2, 3, 4, 5]"
      ]
     },
     "execution_count": 26,
     "metadata": {},
     "output_type": "execute_result"
    }
   ],
   "source": [
    "l1"
   ]
  },
  {
   "cell_type": "code",
   "execution_count": 27,
   "id": "33064ed9-c1ac-4700-8e3e-4587e7f61d8b",
   "metadata": {},
   "outputs": [
    {
     "data": {
      "text/plain": [
       "['ganesh']"
      ]
     },
     "execution_count": 27,
     "metadata": {},
     "output_type": "execute_result"
    }
   ],
   "source": [
    "l2"
   ]
  },
  {
   "cell_type": "code",
   "execution_count": 28,
   "id": "0b4824fe-a5f0-453c-87d9-ae4f0dbd7324",
   "metadata": {},
   "outputs": [
    {
     "data": {
      "text/plain": [
       "[34.645]"
      ]
     },
     "execution_count": 28,
     "metadata": {},
     "output_type": "execute_result"
    }
   ],
   "source": [
    "l3"
   ]
  },
  {
   "cell_type": "code",
   "execution_count": null,
   "id": "cb845db6-bf74-4787-8940-5b006c4876c7",
   "metadata": {},
   "outputs": [],
   "source": []
  }
 ],
 "metadata": {
  "kernelspec": {
   "display_name": "Python 3 (ipykernel)",
   "language": "python",
   "name": "python3"
  },
  "language_info": {
   "codemirror_mode": {
    "name": "ipython",
    "version": 3
   },
   "file_extension": ".py",
   "mimetype": "text/x-python",
   "name": "python",
   "nbconvert_exporter": "python",
   "pygments_lexer": "ipython3",
   "version": "3.10.8"
  }
 },
 "nbformat": 4,
 "nbformat_minor": 5
}
