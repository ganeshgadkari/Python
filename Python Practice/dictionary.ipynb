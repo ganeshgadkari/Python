{
 "cells": [
  {
   "cell_type": "code",
   "execution_count": 1,
   "id": "ad31177b-5c53-47c1-8b48-bff3b523d58b",
   "metadata": {},
   "outputs": [],
   "source": [
    "d= {}"
   ]
  },
  {
   "cell_type": "code",
   "execution_count": 2,
   "id": "a44df974-8a7c-4bec-ac9a-859c8ef657a0",
   "metadata": {},
   "outputs": [
    {
     "data": {
      "text/plain": [
       "dict"
      ]
     },
     "execution_count": 2,
     "metadata": {},
     "output_type": "execute_result"
    }
   ],
   "source": [
    "type(d)"
   ]
  },
  {
   "cell_type": "code",
   "execution_count": 3,
   "id": "2fe196f0-8ad7-41ef-a56b-fe0195ffeed5",
   "metadata": {},
   "outputs": [
    {
     "data": {
      "text/plain": [
       "{'key': 'gane'}"
      ]
     },
     "execution_count": 3,
     "metadata": {},
     "output_type": "execute_result"
    }
   ],
   "source": [
    "d1 = {'key' : \"gane\"}\n",
    "d1"
   ]
  },
  {
   "cell_type": "code",
   "execution_count": 4,
   "id": "ae289ce6-43e2-419c-9b3e-a2e0f28ea486",
   "metadata": {},
   "outputs": [],
   "source": [
    "d2 = {'name' : \"ganesh\", 'email': \"gg@gmail.com\", 'number' : 8652651653}"
   ]
  },
  {
   "cell_type": "code",
   "execution_count": 5,
   "id": "a460f039-e10e-4cf5-aa13-2559fe063ca5",
   "metadata": {},
   "outputs": [
    {
     "data": {
      "text/plain": [
       "{'name': 'ganesh', 'email': 'gg@gmail.com', 'number': 8652651653}"
      ]
     },
     "execution_count": 5,
     "metadata": {},
     "output_type": "execute_result"
    }
   ],
   "source": [
    "d2"
   ]
  },
  {
   "cell_type": "code",
   "execution_count": 6,
   "id": "d018f776-c49c-48d9-b8b5-ab3ecbd930a4",
   "metadata": {},
   "outputs": [],
   "source": [
    "d3 = {234 : \"asdf\", '_wer' :\"hfs\", True : 658146}"
   ]
  },
  {
   "cell_type": "code",
   "execution_count": 7,
   "id": "98018353-8dbb-489a-9ca7-901248907228",
   "metadata": {},
   "outputs": [
    {
     "data": {
      "text/plain": [
       "{234: 'asdf', '_wer': 'hfs', True: 658146}"
      ]
     },
     "execution_count": 7,
     "metadata": {},
     "output_type": "execute_result"
    }
   ],
   "source": [
    "d3"
   ]
  },
  {
   "cell_type": "code",
   "execution_count": 8,
   "id": "5760a3b5-6e25-47f8-8917-0211ad2b8c24",
   "metadata": {},
   "outputs": [
    {
     "data": {
      "text/plain": [
       "'asdf'"
      ]
     },
     "execution_count": 8,
     "metadata": {},
     "output_type": "execute_result"
    }
   ],
   "source": [
    "d3[234]"
   ]
  },
  {
   "cell_type": "code",
   "execution_count": 9,
   "id": "e46d586b-e76a-49c6-8b00-94dd5c116a28",
   "metadata": {},
   "outputs": [
    {
     "data": {
      "text/plain": [
       "658146"
      ]
     },
     "execution_count": 9,
     "metadata": {},
     "output_type": "execute_result"
    }
   ],
   "source": [
    "d3[1]"
   ]
  },
  {
   "cell_type": "code",
   "execution_count": 12,
   "id": "4faf3885-f901-45f7-8012-79cd7b0f9958",
   "metadata": {},
   "outputs": [],
   "source": [
    "d4 = {'name' : \"adcf\", 'email': \"gg@gmail.com\", 'name' : \"ganesh\"}"
   ]
  },
  {
   "cell_type": "code",
   "execution_count": 13,
   "id": "64ec7856-5bc7-4eb6-a14e-ace4e0553f1e",
   "metadata": {},
   "outputs": [
    {
     "data": {
      "text/plain": [
       "{'name': 'ganesh', 'email': 'gg@gmail.com'}"
      ]
     },
     "execution_count": 13,
     "metadata": {},
     "output_type": "execute_result"
    }
   ],
   "source": [
    "d4"
   ]
  },
  {
   "cell_type": "code",
   "execution_count": 14,
   "id": "b8929857-929e-4f9b-8c6c-4300a2fd3f6f",
   "metadata": {},
   "outputs": [
    {
     "data": {
      "text/plain": [
       "'ganesh'"
      ]
     },
     "execution_count": 14,
     "metadata": {},
     "output_type": "execute_result"
    }
   ],
   "source": [
    "d4['name']"
   ]
  },
  {
   "cell_type": "code",
   "execution_count": 23,
   "id": "fac0d5b8-54b4-47f4-b5b1-3e5ad81a2712",
   "metadata": {},
   "outputs": [],
   "source": [
    "d5 = {'company':\"pwskills\", 'course':[\"web development\",\"data science mastars\",\"java with dsa\"]}"
   ]
  },
  {
   "cell_type": "code",
   "execution_count": 24,
   "id": "e8fcc158-e37e-46c3-b6c8-431cb2748548",
   "metadata": {},
   "outputs": [
    {
     "data": {
      "text/plain": [
       "{'company': 'pwskills',\n",
       " 'course': ['web development', 'data science mastars', 'java with dsa']}"
      ]
     },
     "execution_count": 24,
     "metadata": {},
     "output_type": "execute_result"
    }
   ],
   "source": [
    "d5"
   ]
  },
  {
   "cell_type": "code",
   "execution_count": 25,
   "id": "8ca5422f-4a55-4372-a760-cbce4525f475",
   "metadata": {},
   "outputs": [
    {
     "data": {
      "text/plain": [
       "['web development', 'data science mastars', 'java with dsa']"
      ]
     },
     "execution_count": 25,
     "metadata": {},
     "output_type": "execute_result"
    }
   ],
   "source": [
    "d5[\"course\"]"
   ]
  },
  {
   "cell_type": "code",
   "execution_count": 29,
   "id": "a4a5f931-574a-4ecd-8482-c233f6a57122",
   "metadata": {},
   "outputs": [
    {
     "data": {
      "text/plain": [
       "'data science mastars'"
      ]
     },
     "execution_count": 29,
     "metadata": {},
     "output_type": "execute_result"
    }
   ],
   "source": [
    "d5[\"course\"][1]"
   ]
  },
  {
   "cell_type": "code",
   "execution_count": 34,
   "id": "4ed29137-cc9d-4033-b9c7-a5def838f139",
   "metadata": {},
   "outputs": [],
   "source": [
    "d6 = {'number': [2,4,5,3,64,75,], 'assignments':(1,2,3,4,5,6), 'launch data': {28,12,14}, 'class timing': {'web_dev': 8, 'dsm': 9,'java': 7}}"
   ]
  },
  {
   "cell_type": "code",
   "execution_count": 35,
   "id": "582f06bc-8e5a-4c56-9127-e8ddb8949674",
   "metadata": {},
   "outputs": [
    {
     "data": {
      "text/plain": [
       "{'number': [2, 4, 5, 3, 64, 75],\n",
       " 'assignments': (1, 2, 3, 4, 5, 6),\n",
       " 'launch data': {12, 14, 28},\n",
       " 'class timing': {'web_dev': 8, 'dsm': 9, 'java': 7}}"
      ]
     },
     "execution_count": 35,
     "metadata": {},
     "output_type": "execute_result"
    }
   ],
   "source": [
    "d6"
   ]
  },
  {
   "cell_type": "code",
   "execution_count": 38,
   "id": "6573126b-c909-4f0e-a231-18686853ce7b",
   "metadata": {},
   "outputs": [
    {
     "data": {
      "text/plain": [
       "7"
      ]
     },
     "execution_count": 38,
     "metadata": {},
     "output_type": "execute_result"
    }
   ],
   "source": [
    "d6['class timing']['java']"
   ]
  },
  {
   "cell_type": "code",
   "execution_count": 39,
   "id": "a5675296-4a4d-47b5-840d-8489d25616b1",
   "metadata": {},
   "outputs": [],
   "source": [
    "d6['mentor'] = [\"sudanshu\",'krish','anurag','hayder']"
   ]
  },
  {
   "cell_type": "code",
   "execution_count": 40,
   "id": "90bcdc5a-50d7-4082-aea8-fbe9b4d28dea",
   "metadata": {},
   "outputs": [
    {
     "data": {
      "text/plain": [
       "{'number': [2, 4, 5, 3, 64, 75],\n",
       " 'assignments': (1, 2, 3, 4, 5, 6),\n",
       " 'launch data': {12, 14, 28},\n",
       " 'class timing': {'web_dev': 8, 'dsm': 9, 'java': 7},\n",
       " 'mentor': ['sudanshu', 'krish', 'anurag', 'hayder']}"
      ]
     },
     "execution_count": 40,
     "metadata": {},
     "output_type": "execute_result"
    }
   ],
   "source": [
    "d6"
   ]
  },
  {
   "cell_type": "code",
   "execution_count": 41,
   "id": "acdc67b8-5f50-4347-9021-760837f5dfcd",
   "metadata": {},
   "outputs": [],
   "source": [
    "del d6['number']"
   ]
  },
  {
   "cell_type": "code",
   "execution_count": 42,
   "id": "87b125d2-509f-4d9c-ae75-4ddf58c02f9e",
   "metadata": {},
   "outputs": [
    {
     "data": {
      "text/plain": [
       "{'assignments': (1, 2, 3, 4, 5, 6),\n",
       " 'launch data': {12, 14, 28},\n",
       " 'class timing': {'web_dev': 8, 'dsm': 9, 'java': 7},\n",
       " 'mentor': ['sudanshu', 'krish', 'anurag', 'hayder']}"
      ]
     },
     "execution_count": 42,
     "metadata": {},
     "output_type": "execute_result"
    }
   ],
   "source": [
    "d6"
   ]
  },
  {
   "cell_type": "code",
   "execution_count": 43,
   "id": "93717455-5263-4ee8-bef6-c9f8edfad55b",
   "metadata": {},
   "outputs": [
    {
     "data": {
      "text/plain": [
       "dict_keys(['assignments', 'launch data', 'class timing', 'mentor'])"
      ]
     },
     "execution_count": 43,
     "metadata": {},
     "output_type": "execute_result"
    }
   ],
   "source": [
    "d6.keys()"
   ]
  },
  {
   "cell_type": "code",
   "execution_count": 44,
   "id": "0b353d02-bf21-415a-b603-64c71d44f5e6",
   "metadata": {},
   "outputs": [
    {
     "data": {
      "text/plain": [
       "dict_values([(1, 2, 3, 4, 5, 6), {28, 12, 14}, {'web_dev': 8, 'dsm': 9, 'java': 7}, ['sudanshu', 'krish', 'anurag', 'hayder']])"
      ]
     },
     "execution_count": 44,
     "metadata": {},
     "output_type": "execute_result"
    }
   ],
   "source": [
    "d6.values()"
   ]
  },
  {
   "cell_type": "code",
   "execution_count": 45,
   "id": "d3dfbdf4-2878-464b-a24e-f35b63b6f1d3",
   "metadata": {},
   "outputs": [
    {
     "data": {
      "text/plain": [
       "dict_items([('assignments', (1, 2, 3, 4, 5, 6)), ('launch data', {28, 12, 14}), ('class timing', {'web_dev': 8, 'dsm': 9, 'java': 7}), ('mentor', ['sudanshu', 'krish', 'anurag', 'hayder'])])"
      ]
     },
     "execution_count": 45,
     "metadata": {},
     "output_type": "execute_result"
    }
   ],
   "source": [
    "d6.items()"
   ]
  },
  {
   "cell_type": "code",
   "execution_count": 46,
   "id": "80474ff7-c76e-49b7-af53-a0aeeea71c5b",
   "metadata": {},
   "outputs": [
    {
     "data": {
      "text/plain": [
       "[('assignments', (1, 2, 3, 4, 5, 6)),\n",
       " ('launch data', {12, 14, 28}),\n",
       " ('class timing', {'web_dev': 8, 'dsm': 9, 'java': 7}),\n",
       " ('mentor', ['sudanshu', 'krish', 'anurag', 'hayder'])]"
      ]
     },
     "execution_count": 46,
     "metadata": {},
     "output_type": "execute_result"
    }
   ],
   "source": [
    "list(d6.items())"
   ]
  },
  {
   "cell_type": "code",
   "execution_count": 49,
   "id": "d10298bf-9444-4fec-b32a-6d9e565241ca",
   "metadata": {},
   "outputs": [
    {
     "data": {
      "text/plain": [
       "(1, 2, 3, 4, 5, 6)"
      ]
     },
     "execution_count": 49,
     "metadata": {},
     "output_type": "execute_result"
    }
   ],
   "source": [
    "d6.pop('assignments')"
   ]
  },
  {
   "cell_type": "code",
   "execution_count": 50,
   "id": "edd5ba2e-f4ed-4350-a236-8b851313c38e",
   "metadata": {},
   "outputs": [
    {
     "data": {
      "text/plain": [
       "{'launch data': {12, 14, 28},\n",
       " 'class timing': {'web_dev': 8, 'dsm': 9, 'java': 7},\n",
       " 'mentor': ['sudanshu', 'krish', 'anurag', 'hayder']}"
      ]
     },
     "execution_count": 50,
     "metadata": {},
     "output_type": "execute_result"
    }
   ],
   "source": [
    "d6"
   ]
  },
  {
   "cell_type": "code",
   "execution_count": null,
   "id": "89838a11-8939-4a0d-929d-dbf72623e30f",
   "metadata": {},
   "outputs": [],
   "source": []
  }
 ],
 "metadata": {
  "kernelspec": {
   "display_name": "Python 3 (ipykernel)",
   "language": "python",
   "name": "python3"
  },
  "language_info": {
   "codemirror_mode": {
    "name": "ipython",
    "version": 3
   },
   "file_extension": ".py",
   "mimetype": "text/x-python",
   "name": "python",
   "nbconvert_exporter": "python",
   "pygments_lexer": "ipython3",
   "version": "3.10.8"
  }
 },
 "nbformat": 4,
 "nbformat_minor": 5
}
