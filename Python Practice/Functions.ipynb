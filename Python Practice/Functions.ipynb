{
 "cells": [
  {
   "cell_type": "code",
   "execution_count": 6,
   "id": "ddd07a41-1acd-44c8-be6b-6e88c299c189",
   "metadata": {},
   "outputs": [],
   "source": [
    "def test():\n",
    "    print(\"This is my very very first function\")"
   ]
  },
  {
   "cell_type": "code",
   "execution_count": 7,
   "id": "c7c72ce4-b6f7-442c-8d8d-a92d537de0a9",
   "metadata": {},
   "outputs": [
    {
     "name": "stdout",
     "output_type": "stream",
     "text": [
      "This is my very very first function\n"
     ]
    }
   ],
   "source": [
    "test()"
   ]
  },
  {
   "cell_type": "code",
   "execution_count": 8,
   "id": "24df1ac1-e3bd-4219-ae82-61336c716efd",
   "metadata": {},
   "outputs": [],
   "source": [
    "def test1():\n",
    "    return \"This is my very first return \""
   ]
  },
  {
   "cell_type": "code",
   "execution_count": 9,
   "id": "426ec032-f81a-4b23-98aa-fbf4a14d9c84",
   "metadata": {},
   "outputs": [
    {
     "data": {
      "text/plain": [
       "'This is my very first return '"
      ]
     },
     "execution_count": 9,
     "metadata": {},
     "output_type": "execute_result"
    }
   ],
   "source": [
    "test1()"
   ]
  },
  {
   "cell_type": "code",
   "execution_count": 10,
   "id": "2509c352-667e-421c-8e4b-adc69ffb1b85",
   "metadata": {},
   "outputs": [
    {
     "data": {
      "text/plain": [
       "'This is my very first return ganesh'"
      ]
     },
     "execution_count": 10,
     "metadata": {},
     "output_type": "execute_result"
    }
   ],
   "source": [
    "test1() + \"ganesh\""
   ]
  },
  {
   "cell_type": "code",
   "execution_count": 11,
   "id": "31cb87d9-d5be-4d19-a93e-260d70053a84",
   "metadata": {},
   "outputs": [],
   "source": [
    "def test2() :\n",
    "    return \"ganesh\",23,345.56,[1,2,3,4]"
   ]
  },
  {
   "cell_type": "code",
   "execution_count": 12,
   "id": "400bfa06-3f44-4598-8086-b567a3af4dd6",
   "metadata": {},
   "outputs": [
    {
     "data": {
      "text/plain": [
       "('ganesh', 23, 345.56, [1, 2, 3, 4])"
      ]
     },
     "execution_count": 12,
     "metadata": {},
     "output_type": "execute_result"
    }
   ],
   "source": [
    "test2()"
   ]
  },
  {
   "cell_type": "code",
   "execution_count": 13,
   "id": "7a087357-0486-4f37-bf49-d34a1f32f1e4",
   "metadata": {},
   "outputs": [],
   "source": [
    "a,b,c,d = test2()"
   ]
  },
  {
   "cell_type": "code",
   "execution_count": 14,
   "id": "f40513df-ad5c-489a-b1a1-e10870bb34b9",
   "metadata": {},
   "outputs": [
    {
     "data": {
      "text/plain": [
       "'ganesh'"
      ]
     },
     "execution_count": 14,
     "metadata": {},
     "output_type": "execute_result"
    }
   ],
   "source": [
    "a"
   ]
  },
  {
   "cell_type": "code",
   "execution_count": 15,
   "id": "d4032f35-e5c2-4370-bad5-84c2bd00fbf8",
   "metadata": {},
   "outputs": [
    {
     "data": {
      "text/plain": [
       "23"
      ]
     },
     "execution_count": 15,
     "metadata": {},
     "output_type": "execute_result"
    }
   ],
   "source": [
    "b"
   ]
  },
  {
   "cell_type": "code",
   "execution_count": 16,
   "id": "d8f25f91-45c6-4b0a-9e0f-d18f14c3ddad",
   "metadata": {},
   "outputs": [
    {
     "data": {
      "text/plain": [
       "345.56"
      ]
     },
     "execution_count": 16,
     "metadata": {},
     "output_type": "execute_result"
    }
   ],
   "source": [
    "c"
   ]
  },
  {
   "cell_type": "code",
   "execution_count": 17,
   "id": "a4603eff-f3e9-490f-a18d-5e039b459ae1",
   "metadata": {},
   "outputs": [
    {
     "data": {
      "text/plain": [
       "[1, 2, 3, 4]"
      ]
     },
     "execution_count": 17,
     "metadata": {},
     "output_type": "execute_result"
    }
   ],
   "source": [
    "d"
   ]
  },
  {
   "cell_type": "code",
   "execution_count": 18,
   "id": "39886c4a-62ed-4968-ae70-c74a01403132",
   "metadata": {},
   "outputs": [
    {
     "data": {
      "text/plain": [
       "1"
      ]
     },
     "execution_count": 18,
     "metadata": {},
     "output_type": "execute_result"
    }
   ],
   "source": [
    "a=1\n",
    "b=4\n",
    "a"
   ]
  },
  {
   "cell_type": "code",
   "execution_count": 19,
   "id": "83d9e897-7636-43db-9022-930f2ce3dc2f",
   "metadata": {},
   "outputs": [
    {
     "data": {
      "text/plain": [
       "4"
      ]
     },
     "execution_count": 19,
     "metadata": {},
     "output_type": "execute_result"
    }
   ],
   "source": [
    "b"
   ]
  },
  {
   "cell_type": "code",
   "execution_count": 20,
   "id": "662dee93-6066-4f51-bb36-5d18a728cdea",
   "metadata": {},
   "outputs": [],
   "source": [
    "a,b=1,4"
   ]
  },
  {
   "cell_type": "code",
   "execution_count": 21,
   "id": "b3d188bf-d899-4c31-8210-56e5af329563",
   "metadata": {},
   "outputs": [
    {
     "data": {
      "text/plain": [
       "1"
      ]
     },
     "execution_count": 21,
     "metadata": {},
     "output_type": "execute_result"
    }
   ],
   "source": [
    "a"
   ]
  },
  {
   "cell_type": "code",
   "execution_count": 22,
   "id": "ad50e9e0-fa33-44b3-bbbc-7d25132655ca",
   "metadata": {},
   "outputs": [
    {
     "data": {
      "text/plain": [
       "4"
      ]
     },
     "execution_count": 22,
     "metadata": {},
     "output_type": "execute_result"
    }
   ],
   "source": [
    "b"
   ]
  },
  {
   "cell_type": "code",
   "execution_count": 23,
   "id": "f2443777-7f1b-496f-99cd-5359178c4fb8",
   "metadata": {},
   "outputs": [],
   "source": [
    "def test3():\n",
    "    a=5+6/7\n",
    "    return a"
   ]
  },
  {
   "cell_type": "code",
   "execution_count": 24,
   "id": "f4c35349-49c9-4a3d-86ae-17a3d8bb1cbe",
   "metadata": {},
   "outputs": [
    {
     "data": {
      "text/plain": [
       "5.857142857142857"
      ]
     },
     "execution_count": 24,
     "metadata": {},
     "output_type": "execute_result"
    }
   ],
   "source": [
    "test3()"
   ]
  },
  {
   "cell_type": "code",
   "execution_count": 25,
   "id": "fbd7112e-3564-4590-866f-2a31fd7c2a07",
   "metadata": {},
   "outputs": [],
   "source": [
    "def test4(a,b,c):\n",
    "    d = (a+ b) / c\n",
    "    return d"
   ]
  },
  {
   "cell_type": "code",
   "execution_count": 26,
   "id": "f771e986-5f5f-4b72-a453-760e7b567016",
   "metadata": {},
   "outputs": [
    {
     "data": {
      "text/plain": [
       "4.0"
      ]
     },
     "execution_count": 26,
     "metadata": {},
     "output_type": "execute_result"
    }
   ],
   "source": [
    "test4(3,5,2)"
   ]
  },
  {
   "cell_type": "code",
   "execution_count": 27,
   "id": "4ad9fcd8-a158-4a68-8532-07eedc41cffb",
   "metadata": {},
   "outputs": [],
   "source": [
    "def test5(a,b):\n",
    "    return a+b"
   ]
  },
  {
   "cell_type": "code",
   "execution_count": 28,
   "id": "28037267-062c-4c2b-ba77-536dafb3c35d",
   "metadata": {},
   "outputs": [
    {
     "data": {
      "text/plain": [
       "7"
      ]
     },
     "execution_count": 28,
     "metadata": {},
     "output_type": "execute_result"
    }
   ],
   "source": [
    "test5(3,4)"
   ]
  },
  {
   "cell_type": "code",
   "execution_count": 29,
   "id": "01d61b56-080f-4c5e-b0d4-8c3591123735",
   "metadata": {},
   "outputs": [
    {
     "data": {
      "text/plain": [
       "'ganesh gadkari'"
      ]
     },
     "execution_count": 29,
     "metadata": {},
     "output_type": "execute_result"
    }
   ],
   "source": [
    "test5(\"ganesh\",\" gadkari\")"
   ]
  },
  {
   "cell_type": "code",
   "execution_count": 30,
   "id": "e9d5d6af-3435-45d5-886c-748f2bab8ec0",
   "metadata": {},
   "outputs": [
    {
     "data": {
      "text/plain": [
       "[1, 2, 3, 4, 5, 6, 7]"
      ]
     },
     "execution_count": 30,
     "metadata": {},
     "output_type": "execute_result"
    }
   ],
   "source": [
    "test5([1,2,3,4],[5,6,7])"
   ]
  },
  {
   "cell_type": "code",
   "execution_count": 31,
   "id": "3673effb-6801-4fbd-87fa-4adc8a574e08",
   "metadata": {},
   "outputs": [],
   "source": [
    "l = [1,2,3,4,'ganesh','gadkari',[1,2,3,4,5,6]]"
   ]
  },
  {
   "cell_type": "code",
   "execution_count": 32,
   "id": "db52c0be-0d92-4c8a-bcbf-d87c533997a3",
   "metadata": {},
   "outputs": [
    {
     "data": {
      "text/plain": [
       "[1, 2, 3, 4]"
      ]
     },
     "execution_count": 32,
     "metadata": {},
     "output_type": "execute_result"
    }
   ],
   "source": [
    "l1 = []\n",
    "for i in l :\n",
    "    if type(i) == int or type(i) == float :\n",
    "        l1.append(i)\n",
    "l1"
   ]
  },
  {
   "cell_type": "code",
   "execution_count": 33,
   "id": "3cbfa515-6dae-48f9-a69d-eae72aac1c0c",
   "metadata": {},
   "outputs": [
    {
     "data": {
      "text/plain": [
       "[1, 2, 3, 4]"
      ]
     },
     "execution_count": 33,
     "metadata": {},
     "output_type": "execute_result"
    }
   ],
   "source": [
    "def test6(l) :\n",
    "    l1=[]\n",
    "    for i in l :\n",
    "        if type(i) == int or type(i) == float :\n",
    "            l1.append(i)\n",
    "    return l1\n",
    "    \n",
    "test6(l)"
   ]
  },
  {
   "cell_type": "code",
   "execution_count": 34,
   "id": "290b632d-7171-4c0d-9a2a-04244a8969d0",
   "metadata": {},
   "outputs": [
    {
     "data": {
      "text/plain": [
       "[1, 2, 3, 4, 'ganesh', 'gadkari', [1, 2, 3, 4, 5, 6]]"
      ]
     },
     "execution_count": 34,
     "metadata": {},
     "output_type": "execute_result"
    }
   ],
   "source": [
    "l"
   ]
  },
  {
   "cell_type": "code",
   "execution_count": 35,
   "id": "36646889-2654-4a25-9a59-9ece7338b618",
   "metadata": {},
   "outputs": [
    {
     "data": {
      "text/plain": [
       "[1, 2, 3, 4, 1, 2, 3, 4, 5, 6]"
      ]
     },
     "execution_count": 35,
     "metadata": {},
     "output_type": "execute_result"
    }
   ],
   "source": [
    "l=[1, 2, 3, 4, 'ganesh', 'gadkari', [1, 2, 3, 4, 5, 6]]\n",
    "def test7(a):\n",
    "    \"\"\"This is my function to extract num data from list\"\"\"\n",
    "    \n",
    "    l3=[]\n",
    "    for i in a :\n",
    "        if type(i) ==list:\n",
    "            for j in i :\n",
    "                l3.append(j)\n",
    "        else :\n",
    "            if type(i) == int or type(i) == float:\n",
    "                l3.append(i)\n",
    "    return l3\n",
    "\n",
    "test7(l)"
   ]
  },
  {
   "cell_type": "code",
   "execution_count": 36,
   "id": "18744ef0-4f77-47a7-adae-55e03eb8b6f4",
   "metadata": {},
   "outputs": [],
   "source": [
    "def test8(*args):\n",
    "    return args"
   ]
  },
  {
   "cell_type": "code",
   "execution_count": 38,
   "id": "063368b3-e575-4458-b636-3c3badcd844f",
   "metadata": {},
   "outputs": [
    {
     "data": {
      "text/plain": [
       "(1, 2, 3)"
      ]
     },
     "execution_count": 38,
     "metadata": {},
     "output_type": "execute_result"
    }
   ],
   "source": [
    "test8(1,2,3)"
   ]
  },
  {
   "cell_type": "code",
   "execution_count": 39,
   "id": "b6013568-0e1e-495e-80b2-f11fca19546c",
   "metadata": {},
   "outputs": [
    {
     "data": {
      "text/plain": [
       "(1, 2, 3, 'ganesh', 'gadkari', [1, 2, 3, 4, 5])"
      ]
     },
     "execution_count": 39,
     "metadata": {},
     "output_type": "execute_result"
    }
   ],
   "source": [
    "test8(1,2,3,\"ganesh\",\"gadkari\",[1,2,3,4,5])"
   ]
  },
  {
   "cell_type": "code",
   "execution_count": 40,
   "id": "dbcf37b8-ccc5-4885-a453-9aa057bae815",
   "metadata": {},
   "outputs": [],
   "source": [
    "def test9(*abcd):\n",
    "    return abcd"
   ]
  },
  {
   "cell_type": "code",
   "execution_count": 41,
   "id": "b80fd7af-bf34-4be8-8a6b-7c4017d3ef4f",
   "metadata": {},
   "outputs": [
    {
     "data": {
      "text/plain": [
       "(1, 32, 4, 5)"
      ]
     },
     "execution_count": 41,
     "metadata": {},
     "output_type": "execute_result"
    }
   ],
   "source": [
    "test9(1,32,4,5)"
   ]
  },
  {
   "cell_type": "code",
   "execution_count": 42,
   "id": "05e947bb-e737-4ff0-9021-c682c898b358",
   "metadata": {},
   "outputs": [],
   "source": [
    "def test10(*args,a):\n",
    "    return args,a"
   ]
  },
  {
   "cell_type": "code",
   "execution_count": 43,
   "id": "3c094d4a-f731-4125-bebb-b96c6cec6e66",
   "metadata": {},
   "outputs": [
    {
     "data": {
      "text/plain": [
       "((1, 3, 4, 5), 34)"
      ]
     },
     "execution_count": 43,
     "metadata": {},
     "output_type": "execute_result"
    }
   ],
   "source": [
    "test10(1,3,4,5,a=34)"
   ]
  },
  {
   "cell_type": "code",
   "execution_count": 44,
   "id": "c717aad6-b9c5-4539-878d-22b7dc96fd4f",
   "metadata": {},
   "outputs": [],
   "source": [
    "def test11(c,d,a=23,b=45):\n",
    "    return a,b,c,d"
   ]
  },
  {
   "cell_type": "code",
   "execution_count": 45,
   "id": "f7ce3077-30fb-4fed-8a5c-5e8706919b4b",
   "metadata": {},
   "outputs": [
    {
     "data": {
      "text/plain": [
       "(23, 45, 3, 5)"
      ]
     },
     "execution_count": 45,
     "metadata": {},
     "output_type": "execute_result"
    }
   ],
   "source": [
    "test11(3,5)"
   ]
  },
  {
   "cell_type": "code",
   "execution_count": 46,
   "id": "d1ac303b-40d7-41a8-8097-99ce01ee7893",
   "metadata": {},
   "outputs": [
    {
     "data": {
      "text/plain": [
       "(2, 6, 2342, 1)"
      ]
     },
     "execution_count": 46,
     "metadata": {},
     "output_type": "execute_result"
    }
   ],
   "source": [
    "test11(2342,1,2,6)"
   ]
  },
  {
   "cell_type": "code",
   "execution_count": 47,
   "id": "f27ca6e1-7f30-4b9f-bfdf-ce3d6ec007fe",
   "metadata": {},
   "outputs": [],
   "source": [
    "def test12(**kwargs):\n",
    "    return kwargs"
   ]
  },
  {
   "cell_type": "code",
   "execution_count": 48,
   "id": "74b57bc8-cf98-4548-883e-5dfa601252af",
   "metadata": {},
   "outputs": [
    {
     "data": {
      "text/plain": [
       "{}"
      ]
     },
     "execution_count": 48,
     "metadata": {},
     "output_type": "execute_result"
    }
   ],
   "source": [
    "test12()"
   ]
  },
  {
   "cell_type": "code",
   "execution_count": 49,
   "id": "2ef5b859-07f0-4c7f-8e9b-a8e9dc7567ea",
   "metadata": {},
   "outputs": [
    {
     "data": {
      "text/plain": [
       "dict"
      ]
     },
     "execution_count": 49,
     "metadata": {},
     "output_type": "execute_result"
    }
   ],
   "source": [
    "type(test12())"
   ]
  },
  {
   "cell_type": "code",
   "execution_count": 50,
   "id": "64342617-0d8b-4b87-9d78-67472e474ef2",
   "metadata": {},
   "outputs": [
    {
     "data": {
      "text/plain": [
       "{'a': [1, 2, 3, 4], 'b': 'ganesh', 'c': 23.53}"
      ]
     },
     "execution_count": 50,
     "metadata": {},
     "output_type": "execute_result"
    }
   ],
   "source": [
    "test12(a=[1,2,3,4],b='ganesh',c=23.53)"
   ]
  },
  {
   "cell_type": "code",
   "execution_count": null,
   "id": "a62bd288-e490-438c-8e6e-6c5144060466",
   "metadata": {},
   "outputs": [],
   "source": []
  }
 ],
 "metadata": {
  "kernelspec": {
   "display_name": "Python 3 (ipykernel)",
   "language": "python",
   "name": "python3"
  },
  "language_info": {
   "codemirror_mode": {
    "name": "ipython",
    "version": 3
   },
   "file_extension": ".py",
   "mimetype": "text/x-python",
   "name": "python",
   "nbconvert_exporter": "python",
   "pygments_lexer": "ipython3",
   "version": "3.10.8"
  }
 },
 "nbformat": 4,
 "nbformat_minor": 5
}
