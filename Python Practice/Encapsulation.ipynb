{
 "cells": [
  {
   "cell_type": "code",
   "execution_count": 40,
   "id": "e84309de-db1e-4ac4-b123-43d6decd69bc",
   "metadata": {},
   "outputs": [],
   "source": [
    "class test :\n",
    "    \n",
    "    def __init__(self,a,b):\n",
    "        self.a = a\n",
    "        self.b = b"
   ]
  },
  {
   "cell_type": "code",
   "execution_count": 41,
   "id": "d0ac03e4-bc09-40f8-b656-9c95f965f02b",
   "metadata": {},
   "outputs": [],
   "source": [
    "t = test(23,34)"
   ]
  },
  {
   "cell_type": "code",
   "execution_count": 42,
   "id": "93d163c9-35a1-483c-b786-0df798c07330",
   "metadata": {},
   "outputs": [],
   "source": [
    "t. a = 2324254"
   ]
  },
  {
   "cell_type": "code",
   "execution_count": 43,
   "id": "08b30006-02f1-4668-ab5c-92bacdbf7c1c",
   "metadata": {},
   "outputs": [
    {
     "data": {
      "text/plain": [
       "2324254"
      ]
     },
     "execution_count": 43,
     "metadata": {},
     "output_type": "execute_result"
    }
   ],
   "source": [
    "t.a"
   ]
  },
  {
   "cell_type": "code",
   "execution_count": 44,
   "id": "490b32bf-8e06-4b3f-85a4-6f8f7eceb901",
   "metadata": {},
   "outputs": [],
   "source": [
    "class car :\n",
    "    def __init__(self,year,make, model,speed):\n",
    "        self.__year = year\n",
    "        self.__make = make\n",
    "        self.__model = model\n",
    "        self.__speed = 0\n",
    "        \n",
    "    def set_speed(self,speed):\n",
    "        self.__speed = 0 if speed < 0 else speed\n",
    "        \n",
    "    def get_speed(self):\n",
    "        return self.__speed"
   ]
  },
  {
   "cell_type": "code",
   "execution_count": 45,
   "id": "71d78ed6-92b2-41f9-8acd-23ecca31de19",
   "metadata": {},
   "outputs": [],
   "source": [
    "c = car(2021,\"toyota\",\"innova\",12)"
   ]
  },
  {
   "cell_type": "code",
   "execution_count": 46,
   "id": "c8c7a227-4892-4631-9812-a9fc89e494fb",
   "metadata": {},
   "outputs": [
    {
     "data": {
      "text/plain": [
       "2021"
      ]
     },
     "execution_count": 46,
     "metadata": {},
     "output_type": "execute_result"
    }
   ],
   "source": [
    "c._car__year"
   ]
  },
  {
   "cell_type": "code",
   "execution_count": 47,
   "id": "24daffb9-f478-4db6-9b83-c11678e10747",
   "metadata": {},
   "outputs": [
    {
     "data": {
      "text/plain": [
       "'innova'"
      ]
     },
     "execution_count": 47,
     "metadata": {},
     "output_type": "execute_result"
    }
   ],
   "source": [
    "c._car__model"
   ]
  },
  {
   "cell_type": "code",
   "execution_count": 48,
   "id": "688b3399-ea6a-472b-8c83-e019c55cabc3",
   "metadata": {},
   "outputs": [],
   "source": [
    "c.set_speed(241)"
   ]
  },
  {
   "cell_type": "code",
   "execution_count": 49,
   "id": "dd11e3d9-5a8c-4fbc-8f4d-cd8dc8d52d2c",
   "metadata": {},
   "outputs": [
    {
     "data": {
      "text/plain": [
       "241"
      ]
     },
     "execution_count": 49,
     "metadata": {},
     "output_type": "execute_result"
    }
   ],
   "source": [
    "c.get_speed()"
   ]
  },
  {
   "cell_type": "code",
   "execution_count": 50,
   "id": "675f537e-3922-4ad3-ad9c-49784a29cca0",
   "metadata": {},
   "outputs": [],
   "source": [
    "class bank_account :\n",
    "    def __init__(self, balance):\n",
    "        self.__balance = balance\n",
    "        \n",
    "    def deposite(self, amount):\n",
    "        self.__balance = self.__balance + amount\n",
    "    \n",
    "    def withdraw(self, amount):\n",
    "        if self.__balance >= amount :\n",
    "            self.__balance = self.__balance - amount\n",
    "            return True\n",
    "        else :\n",
    "            return False\n",
    "        \n",
    "    def get_balance(self) :\n",
    "        return self.__balance"
   ]
  },
  {
   "cell_type": "code",
   "execution_count": 51,
   "id": "9e54c68a-fdba-4108-851c-0c1af0b79b17",
   "metadata": {},
   "outputs": [],
   "source": [
    "sudh = bank_account(1000)"
   ]
  },
  {
   "cell_type": "code",
   "execution_count": 52,
   "id": "dc89e6f9-5b41-4715-80e2-caab2dc32a42",
   "metadata": {},
   "outputs": [
    {
     "data": {
      "text/plain": [
       "1000"
      ]
     },
     "execution_count": 52,
     "metadata": {},
     "output_type": "execute_result"
    }
   ],
   "source": [
    "sudh.get_balance()"
   ]
  },
  {
   "cell_type": "code",
   "execution_count": 53,
   "id": "76f32a71-eaf7-426e-bf4f-b50e88afaac7",
   "metadata": {},
   "outputs": [],
   "source": [
    "sudh.deposite(5000)"
   ]
  },
  {
   "cell_type": "code",
   "execution_count": 54,
   "id": "5a3abd8f-bb7b-4e10-8527-48bdf121be82",
   "metadata": {},
   "outputs": [
    {
     "data": {
      "text/plain": [
       "6000"
      ]
     },
     "execution_count": 54,
     "metadata": {},
     "output_type": "execute_result"
    }
   ],
   "source": [
    "sudh.get_balance()"
   ]
  },
  {
   "cell_type": "code",
   "execution_count": 55,
   "id": "91efd6a2-2c0e-4d93-b152-a5fdc20b29d1",
   "metadata": {},
   "outputs": [
    {
     "data": {
      "text/plain": [
       "True"
      ]
     },
     "execution_count": 55,
     "metadata": {},
     "output_type": "execute_result"
    }
   ],
   "source": [
    "sudh.withdraw(2000)"
   ]
  },
  {
   "cell_type": "code",
   "execution_count": 56,
   "id": "6f61dc42-1b4d-47d8-a5a8-b4da706ae748",
   "metadata": {},
   "outputs": [
    {
     "data": {
      "text/plain": [
       "4000"
      ]
     },
     "execution_count": 56,
     "metadata": {},
     "output_type": "execute_result"
    }
   ],
   "source": [
    "sudh.get_balance()"
   ]
  },
  {
   "cell_type": "code",
   "execution_count": null,
   "id": "e2f0a5f1-eef6-41ea-ac3e-52cf30307e52",
   "metadata": {},
   "outputs": [],
   "source": []
  }
 ],
 "metadata": {
  "kernelspec": {
   "display_name": "Python 3 (ipykernel)",
   "language": "python",
   "name": "python3"
  },
  "language_info": {
   "codemirror_mode": {
    "name": "ipython",
    "version": 3
   },
   "file_extension": ".py",
   "mimetype": "text/x-python",
   "name": "python",
   "nbconvert_exporter": "python",
   "pygments_lexer": "ipython3",
   "version": "3.10.8"
  }
 },
 "nbformat": 4,
 "nbformat_minor": 5
}
