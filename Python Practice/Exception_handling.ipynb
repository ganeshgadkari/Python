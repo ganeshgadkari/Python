{
 "cells": [
  {
   "cell_type": "code",
   "execution_count": 1,
   "id": "c81246ed-37cb-44ac-87fd-da4b4896cbd1",
   "metadata": {},
   "outputs": [],
   "source": [
    "a = 10"
   ]
  },
  {
   "cell_type": "code",
   "execution_count": 2,
   "id": "42ce79a4-fc60-466a-b76e-f7f0da8f6a5b",
   "metadata": {},
   "outputs": [
    {
     "ename": "ZeroDivisionError",
     "evalue": "division by zero",
     "output_type": "error",
     "traceback": [
      "\u001b[0;31m---------------------------------------------------------------------------\u001b[0m",
      "\u001b[0;31mZeroDivisionError\u001b[0m                         Traceback (most recent call last)",
      "Cell \u001b[0;32mIn[2], line 1\u001b[0m\n\u001b[0;32m----> 1\u001b[0m \u001b[43ma\u001b[49m\u001b[38;5;241;43m/\u001b[39;49m\u001b[38;5;241;43m0\u001b[39;49m\n",
      "\u001b[0;31mZeroDivisionError\u001b[0m: division by zero"
     ]
    }
   ],
   "source": [
    "a/0"
   ]
  },
  {
   "cell_type": "code",
   "execution_count": 7,
   "id": "dee28d05-56cb-44a3-8b3e-e811cd4ce650",
   "metadata": {},
   "outputs": [
    {
     "name": "stdout",
     "output_type": "stream",
     "text": [
      "This is my except block division by zero\n"
     ]
    },
    {
     "data": {
      "text/plain": [
       "9"
      ]
     },
     "execution_count": 7,
     "metadata": {},
     "output_type": "execute_result"
    }
   ],
   "source": [
    "try :\n",
    "    a=10\n",
    "    a/0\n",
    "except Exception as e :\n",
    "    print(\"This is my except block\", e)\n",
    "    \n",
    "a = 4+5\n",
    "a"
   ]
  },
  {
   "cell_type": "code",
   "execution_count": 9,
   "id": "fcefe123-db3b-4763-b0ed-8d1a7e1f0b85",
   "metadata": {},
   "outputs": [],
   "source": [
    "try :\n",
    "    f = open(\"test1.txt\",'w')\n",
    "    f.write(\"Write into my file\")\n",
    "    f.close()\n",
    "except Exception as e :\n",
    "    print(\"This is my except block\", e)"
   ]
  },
  {
   "cell_type": "code",
   "execution_count": 14,
   "id": "21e56193-074e-44e0-84a8-bc135bb99d2f",
   "metadata": {},
   "outputs": [
    {
     "name": "stdout",
     "output_type": "stream",
     "text": [
      "This will be executed once your try will be executed without error\n"
     ]
    }
   ],
   "source": [
    "try :\n",
    "    f = open(\"test1.txt\",'w')\n",
    "    f.write(\"Write into my file\")\n",
    "except Exception as e :\n",
    "    print(\"This is my except block\", e)\n",
    "else :\n",
    "    f.close()\n",
    "    print(\"This will be executed once your try will be executed without error\")"
   ]
  },
  {
   "cell_type": "code",
   "execution_count": 17,
   "id": "90693aef-6385-45ee-b838-f49ec48deca2",
   "metadata": {},
   "outputs": [
    {
     "name": "stdout",
     "output_type": "stream",
     "text": [
      "This is my except block [Errno 2] No such file or directory: 'test6.txt'\n"
     ]
    }
   ],
   "source": [
    "try :\n",
    "    f = open(\"test6.txt\",'r')\n",
    "    f.write(\"Write into my file\")\n",
    "except Exception as e :\n",
    "    print(\"This is my except block\", e)\n",
    "else :\n",
    "    f.close()\n",
    "    print(\"This will be executed once your try will be executed without error\")"
   ]
  },
  {
   "cell_type": "code",
   "execution_count": 19,
   "id": "ee9b7f82-726c-40a7-826f-20a5a97ca458",
   "metadata": {},
   "outputs": [
    {
     "name": "stdout",
     "output_type": "stream",
     "text": [
      "Finally will be executed itself in any situation \n"
     ]
    },
    {
     "ename": "FileNotFoundError",
     "evalue": "[Errno 2] No such file or directory: 'test6.txt'",
     "output_type": "error",
     "traceback": [
      "\u001b[0;31m---------------------------------------------------------------------------\u001b[0m",
      "\u001b[0;31mFileNotFoundError\u001b[0m                         Traceback (most recent call last)",
      "Cell \u001b[0;32mIn[19], line 2\u001b[0m\n\u001b[1;32m      1\u001b[0m \u001b[38;5;28;01mtry\u001b[39;00m :\n\u001b[0;32m----> 2\u001b[0m     f \u001b[38;5;241m=\u001b[39m \u001b[38;5;28;43mopen\u001b[39;49m\u001b[43m(\u001b[49m\u001b[38;5;124;43m\"\u001b[39;49m\u001b[38;5;124;43mtest6.txt\u001b[39;49m\u001b[38;5;124;43m\"\u001b[39;49m\u001b[43m,\u001b[49m\u001b[38;5;124;43m'\u001b[39;49m\u001b[38;5;124;43mr\u001b[39;49m\u001b[38;5;124;43m'\u001b[39;49m\u001b[43m)\u001b[49m\n\u001b[1;32m      3\u001b[0m     f\u001b[38;5;241m.\u001b[39mwrite(\u001b[38;5;124m\"\u001b[39m\u001b[38;5;124mWriting something\u001b[39m\u001b[38;5;124m\"\u001b[39m)\n\u001b[1;32m      5\u001b[0m \u001b[38;5;28;01mfinally\u001b[39;00m :\n",
      "File \u001b[0;32m/opt/conda/lib/python3.10/site-packages/IPython/core/interactiveshell.py:282\u001b[0m, in \u001b[0;36m_modified_open\u001b[0;34m(file, *args, **kwargs)\u001b[0m\n\u001b[1;32m    275\u001b[0m \u001b[38;5;28;01mif\u001b[39;00m file \u001b[38;5;129;01min\u001b[39;00m {\u001b[38;5;241m0\u001b[39m, \u001b[38;5;241m1\u001b[39m, \u001b[38;5;241m2\u001b[39m}:\n\u001b[1;32m    276\u001b[0m     \u001b[38;5;28;01mraise\u001b[39;00m \u001b[38;5;167;01mValueError\u001b[39;00m(\n\u001b[1;32m    277\u001b[0m         \u001b[38;5;124mf\u001b[39m\u001b[38;5;124m\"\u001b[39m\u001b[38;5;124mIPython won\u001b[39m\u001b[38;5;124m'\u001b[39m\u001b[38;5;124mt let you open fd=\u001b[39m\u001b[38;5;132;01m{\u001b[39;00mfile\u001b[38;5;132;01m}\u001b[39;00m\u001b[38;5;124m by default \u001b[39m\u001b[38;5;124m\"\u001b[39m\n\u001b[1;32m    278\u001b[0m         \u001b[38;5;124m\"\u001b[39m\u001b[38;5;124mas it is likely to crash IPython. If you know what you are doing, \u001b[39m\u001b[38;5;124m\"\u001b[39m\n\u001b[1;32m    279\u001b[0m         \u001b[38;5;124m\"\u001b[39m\u001b[38;5;124myou can use builtins\u001b[39m\u001b[38;5;124m'\u001b[39m\u001b[38;5;124m open.\u001b[39m\u001b[38;5;124m\"\u001b[39m\n\u001b[1;32m    280\u001b[0m     )\n\u001b[0;32m--> 282\u001b[0m \u001b[38;5;28;01mreturn\u001b[39;00m \u001b[43mio_open\u001b[49m\u001b[43m(\u001b[49m\u001b[43mfile\u001b[49m\u001b[43m,\u001b[49m\u001b[43m \u001b[49m\u001b[38;5;241;43m*\u001b[39;49m\u001b[43margs\u001b[49m\u001b[43m,\u001b[49m\u001b[43m \u001b[49m\u001b[38;5;241;43m*\u001b[39;49m\u001b[38;5;241;43m*\u001b[39;49m\u001b[43mkwargs\u001b[49m\u001b[43m)\u001b[49m\n",
      "\u001b[0;31mFileNotFoundError\u001b[0m: [Errno 2] No such file or directory: 'test6.txt'"
     ]
    }
   ],
   "source": [
    "try :\n",
    "    f = open(\"test6.txt\",'r')\n",
    "    f.write(\"Writing something\")\n",
    "    \n",
    "finally :\n",
    "    print(\"Finally will be executed itself in any situation \")"
   ]
  },
  {
   "cell_type": "code",
   "execution_count": null,
   "id": "ceab8c0d-82d5-4c3f-8886-98249dd345ad",
   "metadata": {},
   "outputs": [],
   "source": [
    "\n",
    "\n",
    "\n"
   ]
  },
  {
   "cell_type": "code",
   "execution_count": 21,
   "id": "3d0dea8c-02fe-4bc1-95f8-b5606240e774",
   "metadata": {},
   "outputs": [
    {
     "name": "stdin",
     "output_type": "stream",
     "text": [
      "Enter your age -876\n"
     ]
    }
   ],
   "source": [
    "age = int(input(\"Enter your age\"))"
   ]
  },
  {
   "cell_type": "code",
   "execution_count": 29,
   "id": "d2686383-d81c-48a5-ba2d-398b018705b9",
   "metadata": {},
   "outputs": [],
   "source": [
    "class validateage(Exception):\n",
    "    \n",
    "    def __init__(self, msg):\n",
    "        self.msg = msg"
   ]
  },
  {
   "cell_type": "code",
   "execution_count": 30,
   "id": "d755f812-2f9c-4235-9e20-54400ca8d30b",
   "metadata": {},
   "outputs": [],
   "source": [
    "def validaetage(age) :\n",
    "    if age < 0 :\n",
    "        raise validateage(\"Entered age is negative \")\n",
    "    elif age > 200 :\n",
    "        raise validateage(\"Entered age is very very high\")\n",
    "    else :\n",
    "        print(\"age is valid\")"
   ]
  },
  {
   "cell_type": "code",
   "execution_count": 31,
   "id": "369b2218-05c9-41a5-b409-22810a697b15",
   "metadata": {},
   "outputs": [
    {
     "name": "stdin",
     "output_type": "stream",
     "text": [
      "Enter your age :  -976\n"
     ]
    },
    {
     "name": "stdout",
     "output_type": "stream",
     "text": [
      "Entered age is negative \n"
     ]
    }
   ],
   "source": [
    "try :\n",
    "    age = int(input(\"Enter your age : \"))\n",
    "    validaetage(age)\n",
    "except validateage as e :\n",
    "    print(e)"
   ]
  },
  {
   "cell_type": "code",
   "execution_count": null,
   "id": "63c00c41-7d85-4726-b9cc-d52f41d23695",
   "metadata": {},
   "outputs": [],
   "source": []
  }
 ],
 "metadata": {
  "kernelspec": {
   "display_name": "Python 3 (ipykernel)",
   "language": "python",
   "name": "python3"
  },
  "language_info": {
   "codemirror_mode": {
    "name": "ipython",
    "version": 3
   },
   "file_extension": ".py",
   "mimetype": "text/x-python",
   "name": "python",
   "nbconvert_exporter": "python",
   "pygments_lexer": "ipython3",
   "version": "3.10.8"
  }
 },
 "nbformat": 4,
 "nbformat_minor": 5
}
