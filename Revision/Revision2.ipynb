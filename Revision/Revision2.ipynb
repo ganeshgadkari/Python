{
 "cells": [
  {
   "cell_type": "code",
   "execution_count": 4,
   "id": "5603c3cc-d6f5-4cab-93da-70bde12dfa47",
   "metadata": {},
   "outputs": [
    {
     "data": {
      "text/plain": [
       "'Hello,World!'"
      ]
     },
     "execution_count": 4,
     "metadata": {},
     "output_type": "execute_result"
    }
   ],
   "source": [
    "str1 = \"Hello\"\n",
    "str2 = \"World\"\n",
    "\n",
    "final_str = str1 + \",\" + str2 + \"!\" #String concatination\n",
    "final_str"
   ]
  },
  {
   "cell_type": "code",
   "execution_count": 5,
   "id": "a8cee448-2267-4051-bb3e-b2326088c188",
   "metadata": {},
   "outputs": [
    {
     "data": {
      "text/plain": [
       "12"
      ]
     },
     "execution_count": 5,
     "metadata": {},
     "output_type": "execute_result"
    }
   ],
   "source": [
    "len(final_str)"
   ]
  },
  {
   "cell_type": "code",
   "execution_count": 6,
   "id": "820277ea-d56e-45dc-804d-05e9a5aa6991",
   "metadata": {},
   "outputs": [
    {
     "data": {
      "text/plain": [
       "'H'"
      ]
     },
     "execution_count": 6,
     "metadata": {},
     "output_type": "execute_result"
    }
   ],
   "source": [
    "final_str[0]"
   ]
  },
  {
   "cell_type": "code",
   "execution_count": 7,
   "id": "268a2ef2-b45c-45df-bd2f-efb99656f5cb",
   "metadata": {},
   "outputs": [
    {
     "data": {
      "text/plain": [
       "'!'"
      ]
     },
     "execution_count": 7,
     "metadata": {},
     "output_type": "execute_result"
    }
   ],
   "source": [
    "final_str[-1]"
   ]
  },
  {
   "cell_type": "code",
   "execution_count": 8,
   "id": "c56697b9-b493-4995-8dbc-70ced5481d21",
   "metadata": {},
   "outputs": [
    {
     "data": {
      "text/plain": [
       "'ello,Worl'"
      ]
     },
     "execution_count": 8,
     "metadata": {},
     "output_type": "execute_result"
    }
   ],
   "source": [
    "final_str[1:10]"
   ]
  },
  {
   "cell_type": "code",
   "execution_count": 9,
   "id": "04fb8e9d-8daa-493c-9a06-8bdfcd5a485d",
   "metadata": {},
   "outputs": [
    {
     "data": {
      "text/plain": [
       "'HloWrd'"
      ]
     },
     "execution_count": 9,
     "metadata": {},
     "output_type": "execute_result"
    }
   ],
   "source": [
    "final_str[::2]"
   ]
  },
  {
   "cell_type": "code",
   "execution_count": 10,
   "id": "a5e7e50c-1984-424b-bc2e-de2fabd3b267",
   "metadata": {},
   "outputs": [
    {
     "data": {
      "text/plain": [
       "'!dlroW,olleH'"
      ]
     },
     "execution_count": 10,
     "metadata": {},
     "output_type": "execute_result"
    }
   ],
   "source": [
    "final_str[::-1]"
   ]
  },
  {
   "cell_type": "code",
   "execution_count": 11,
   "id": "0423a4b2-775c-4a09-b609-0313c69952d1",
   "metadata": {},
   "outputs": [
    {
     "data": {
      "text/plain": [
       "False"
      ]
     },
     "execution_count": 11,
     "metadata": {},
     "output_type": "execute_result"
    }
   ],
   "source": [
    "final_str.isupper()"
   ]
  },
  {
   "cell_type": "code",
   "execution_count": 12,
   "id": "1c4fa81e-7e14-476a-a2d8-d70bf33feb93",
   "metadata": {},
   "outputs": [
    {
     "data": {
      "text/plain": [
       "False"
      ]
     },
     "execution_count": 12,
     "metadata": {},
     "output_type": "execute_result"
    }
   ],
   "source": [
    "final_str.islower()"
   ]
  },
  {
   "cell_type": "code",
   "execution_count": 14,
   "id": "9928deea-5dc6-4d59-8d7f-0ccea7f2c55b",
   "metadata": {},
   "outputs": [
    {
     "data": {
      "text/plain": [
       "True"
      ]
     },
     "execution_count": 14,
     "metadata": {},
     "output_type": "execute_result"
    }
   ],
   "source": [
    "final_str.istitle()"
   ]
  },
  {
   "cell_type": "code",
   "execution_count": 15,
   "id": "6ee70567-5854-4db4-b1c5-014b87929c48",
   "metadata": {},
   "outputs": [
    {
     "data": {
      "text/plain": [
       "'HELLO,WORLD!'"
      ]
     },
     "execution_count": 15,
     "metadata": {},
     "output_type": "execute_result"
    }
   ],
   "source": [
    "final_str.upper()"
   ]
  },
  {
   "cell_type": "code",
   "execution_count": 16,
   "id": "62c4843e-da34-485b-bbc8-8b6dbac427cb",
   "metadata": {},
   "outputs": [
    {
     "data": {
      "text/plain": [
       "'hello,world!'"
      ]
     },
     "execution_count": 16,
     "metadata": {},
     "output_type": "execute_result"
    }
   ],
   "source": [
    "final_str.lower()"
   ]
  },
  {
   "cell_type": "code",
   "execution_count": 23,
   "id": "8bcb57aa-a6db-40da-8ec9-84c1a0419744",
   "metadata": {},
   "outputs": [
    {
     "data": {
      "text/plain": [
       "'Hello,world!'"
      ]
     },
     "execution_count": 23,
     "metadata": {},
     "output_type": "execute_result"
    }
   ],
   "source": [
    "final_str.capitalize()"
   ]
  },
  {
   "cell_type": "code",
   "execution_count": 27,
   "id": "d540dd6e-e90b-4d89-9c4d-76b8be8ffd74",
   "metadata": {},
   "outputs": [
    {
     "data": {
      "text/plain": [
       "'Hello,Everyone!'"
      ]
     },
     "execution_count": 27,
     "metadata": {},
     "output_type": "execute_result"
    }
   ],
   "source": [
    "final_str.replace('World','Everyone')"
   ]
  },
  {
   "cell_type": "code",
   "execution_count": 28,
   "id": "6f108c3b-d218-47ae-9a5e-ebcca81275df",
   "metadata": {},
   "outputs": [
    {
     "data": {
      "text/plain": [
       "'Hi,World!'"
      ]
     },
     "execution_count": 28,
     "metadata": {},
     "output_type": "execute_result"
    }
   ],
   "source": [
    "final_str.replace('Hello','Hi')"
   ]
  },
  {
   "cell_type": "code",
   "execution_count": 29,
   "id": "7211ee50-3d8c-4a8d-a6b7-a3ff728c1632",
   "metadata": {},
   "outputs": [],
   "source": [
    "final_str = \"    Hello World    \""
   ]
  },
  {
   "cell_type": "code",
   "execution_count": 31,
   "id": "4bf92637-8532-4b16-9cce-fb9b2b1e329d",
   "metadata": {},
   "outputs": [
    {
     "data": {
      "text/plain": [
       "'Hello World'"
      ]
     },
     "execution_count": 31,
     "metadata": {},
     "output_type": "execute_result"
    }
   ],
   "source": [
    "final_str.strip()  #Removes whitespaces"
   ]
  },
  {
   "cell_type": "code",
   "execution_count": 32,
   "id": "1b44cc8f-0e26-4b96-86c5-5ee9ba0badeb",
   "metadata": {},
   "outputs": [],
   "source": [
    "new_str = 'This is a good day to learn data science'"
   ]
  },
  {
   "cell_type": "code",
   "execution_count": 35,
   "id": "2525211b-a64f-4023-9be1-093a15b05418",
   "metadata": {},
   "outputs": [],
   "source": [
    "str_list = new_str.split() #Split enables us to split the string into different substrings"
   ]
  },
  {
   "cell_type": "code",
   "execution_count": 39,
   "id": "32a273b6-aea9-4ebc-ba39-1028e8c10f29",
   "metadata": {},
   "outputs": [
    {
     "data": {
      "text/plain": [
       "'This*is*a*good*day*to*learn*data*science'"
      ]
     },
     "execution_count": 39,
     "metadata": {},
     "output_type": "execute_result"
    }
   ],
   "source": [
    "'*'.join(str_list) #stich the string"
   ]
  },
  {
   "cell_type": "code",
   "execution_count": 40,
   "id": "71e460bf-2c9e-4abf-8740-ad2fccf45888",
   "metadata": {},
   "outputs": [],
   "source": [
    "#String Formating\n",
    "\n",
    "\n",
    "name = 'Jack'"
   ]
  },
  {
   "cell_type": "code",
   "execution_count": 41,
   "id": "6cb54c42-f19b-410d-b30b-2f8157975dbe",
   "metadata": {},
   "outputs": [
    {
     "name": "stdout",
     "output_type": "stream",
     "text": [
      "hello,Jack!\n"
     ]
    }
   ],
   "source": [
    "print('hello,%s!'% name)"
   ]
  },
  {
   "cell_type": "code",
   "execution_count": 43,
   "id": "0f05f0f4-0fd8-401e-bccd-a9176df2c12c",
   "metadata": {},
   "outputs": [
    {
     "name": "stdout",
     "output_type": "stream",
     "text": [
      "hello, Jack\n"
     ]
    }
   ],
   "source": [
    "print(f'hello, {name}') #f string"
   ]
  },
  {
   "cell_type": "code",
   "execution_count": 44,
   "id": "0e2ff390-0b78-4d1a-aa03-e175d6c19058",
   "metadata": {},
   "outputs": [
    {
     "name": "stdout",
     "output_type": "stream",
     "text": [
      "Hello,Jack\n"
     ]
    }
   ],
   "source": [
    "print('Hello,{}'.format(name))"
   ]
  },
  {
   "cell_type": "code",
   "execution_count": 45,
   "id": "c41e3eee-70e5-41a1-ab25-d0827433950c",
   "metadata": {},
   "outputs": [],
   "source": [
    "a = 3\n",
    "b = 4\n",
    "c = a + b"
   ]
  },
  {
   "cell_type": "code",
   "execution_count": 46,
   "id": "7251ce03-1c8c-4eeb-a47f-f26c9efaa40b",
   "metadata": {},
   "outputs": [
    {
     "name": "stdout",
     "output_type": "stream",
     "text": [
      "The sum of 3 and 4 is 7\n"
     ]
    }
   ],
   "source": [
    "print(\"The sum of {} and {} is {}\".format(a,b,c))"
   ]
  },
  {
   "cell_type": "markdown",
   "id": "19c1bd28-6c57-4298-921d-a6c24377c8bc",
   "metadata": {},
   "source": [
    "#Case Study\n",
    "\n",
    "#Analyze tweets"
   ]
  },
  {
   "cell_type": "code",
   "execution_count": 48,
   "id": "916ef4e7-04c6-4dc0-a3f5-c07444ca808b",
   "metadata": {},
   "outputs": [],
   "source": [
    "tweets = [\n",
    "    {\"username\": \"user1\", \"timestamp\": \"2023-05-01 12:30\", \"likes\": 12, \"retweets\": 4, \"text\": \"I love this game!!! #GameBrand\"},\n",
    "    {\"username\": \"user2\", \"timestamp\": \"2023-05-01 13:15\", \"likes\": 45, \"retweets\": 5, \"text\": \"I can't believe how bad this game is... #GameBrand #Disappointed\"},\n",
    "    {\"username\": \"user3\", \"timestamp\": \"2023-05-01 13:47\", \"likes\": 23, \"retweets\": 2, \"text\": \"What a great game! #GameBrand #Fun\"},\n",
    "    {\"username\": \"user4\", \"timestamp\": \"2023-05-01 14:05\", \"likes\": 78, \"retweets\": 7, \"text\": \"This game is too difficult. #GameBrand #Frustrated\"},\n",
    "    {\"username\": \"user5\", \"timestamp\": \"2023-05-01 14:23\", \"likes\": 45, \"retweets\": 5, \"text\": \"I can't stop playing this game! #GameBrand #Addicted\"},\n",
    "    {\"username\": \"user6\", \"timestamp\": \"2023-05-01 15:00\", \"likes\": 67, \"retweets\": 6, \"text\": \"The graphics in this game are amazing. #GameBrand #Impressed\"},\n",
    "    {\"username\": \"user7\", \"timestamp\": \"2023-05-01 15:30\", \"likes\": 34, \"retweets\": 3, \"text\": \"I wish this game had better controls. #GameBrand #Frustrated\"},\n",
    "    {\"username\": \"user8\", \"timestamp\": \"2023-05-01 16:00\", \"likes\": 23, \"retweets\": 2, \"text\": \"This game is a waste of money. #GameBrand #Disappointed\"},\n",
    "    {\"username\": \"user9\", \"timestamp\": \"2023-05-01 16:45\", \"likes\": 56, \"retweets\": 5, \"text\": \"I can't wait for the sequel! #GameBrand #Excited\"},\n",
    "    {\"username\": \"user10\", \"timestamp\": \"2023-05-01 17:00\", \"likes\": 78, \"retweets\": 7, \"text\": \"This game has too many bugs. #GameBrand #Frustrated\"}\n",
    "]"
   ]
  },
  {
   "cell_type": "code",
   "execution_count": 65,
   "id": "8ec36e07-9eb1-4923-b368-80bf9bd66b24",
   "metadata": {},
   "outputs": [
    {
     "data": {
      "text/plain": [
       "'I love this game!!! #GameBrand'"
      ]
     },
     "execution_count": 65,
     "metadata": {},
     "output_type": "execute_result"
    }
   ],
   "source": [
    "tweets[0]['text']"
   ]
  },
  {
   "cell_type": "code",
   "execution_count": 76,
   "id": "e1497e9a-462d-47bd-a1d0-06759b87ceaa",
   "metadata": {},
   "outputs": [],
   "source": [
    "tweets = {'username': 'user1',\n",
    " 'timestamp': '2023-05-01 12:30',\n",
    " 'likes': 12,\n",
    " 'retweets': 4,\n",
    " 'text': 'I love this game!!! #GameBrand'}"
   ]
  },
  {
   "cell_type": "code",
   "execution_count": 77,
   "id": "6525973a-3aeb-4ba9-9926-9b1a2208af3f",
   "metadata": {},
   "outputs": [
    {
     "data": {
      "text/plain": [
       "{'username': 'user1',\n",
       " 'timestamp': '2023-05-01 12:30',\n",
       " 'likes': 12,\n",
       " 'retweets': 4,\n",
       " 'text': 'I love this game!!! #GameBrand'}"
      ]
     },
     "execution_count": 77,
     "metadata": {},
     "output_type": "execute_result"
    }
   ],
   "source": [
    "tweets"
   ]
  },
  {
   "cell_type": "code",
   "execution_count": 78,
   "id": "6041f183-1cef-42ef-a3d0-90740c0e5519",
   "metadata": {},
   "outputs": [
    {
     "data": {
      "text/plain": [
       "'I love this game!!! #GameBrand'"
      ]
     },
     "execution_count": 78,
     "metadata": {},
     "output_type": "execute_result"
    }
   ],
   "source": [
    "tweets['text']"
   ]
  },
  {
   "cell_type": "code",
   "execution_count": 82,
   "id": "283cfa41-42c5-4ddf-8378-fcebcdcab0df",
   "metadata": {},
   "outputs": [],
   "source": [
    "new_tweet = tweets['text'].strip().lower()"
   ]
  },
  {
   "cell_type": "code",
   "execution_count": 83,
   "id": "7c8f433f-989c-46f4-a019-05d46870ce0f",
   "metadata": {},
   "outputs": [
    {
     "data": {
      "text/plain": [
       "'i love this game!!! #gamebrand'"
      ]
     },
     "execution_count": 83,
     "metadata": {},
     "output_type": "execute_result"
    }
   ],
   "source": [
    "new_tweet"
   ]
  },
  {
   "cell_type": "code",
   "execution_count": 84,
   "id": "59030888-a702-40c2-92c4-ea1ed7e1e29a",
   "metadata": {},
   "outputs": [
    {
     "data": {
      "text/plain": [
       "['i', 'love', 'this', 'game!!!', '#gamebrand']"
      ]
     },
     "execution_count": 84,
     "metadata": {},
     "output_type": "execute_result"
    }
   ],
   "source": [
    "new_tweet.split()"
   ]
  },
  {
   "cell_type": "code",
   "execution_count": 86,
   "id": "bfd551a5-385d-49ac-927a-7814e634e974",
   "metadata": {},
   "outputs": [
    {
     "data": {
      "text/plain": [
       "['#gamebrand']"
      ]
     },
     "execution_count": 86,
     "metadata": {},
     "output_type": "execute_result"
    }
   ],
   "source": [
    "[word for word in new_tweet.split() if word.startswith(\"#\")]"
   ]
  },
  {
   "cell_type": "code",
   "execution_count": null,
   "id": "449b7344-a4e2-4834-9097-d1c10483eab8",
   "metadata": {},
   "outputs": [],
   "source": []
  },
  {
   "cell_type": "code",
   "execution_count": null,
   "id": "03e3677c-b4f0-48d9-997e-ed4c89c82dbe",
   "metadata": {},
   "outputs": [],
   "source": []
  },
  {
   "cell_type": "code",
   "execution_count": 58,
   "id": "89237947-34f3-41bf-aea5-652e2a8d2f79",
   "metadata": {},
   "outputs": [],
   "source": [
    "#clean up the tweets\n",
    "\n",
    "for i in range(len(tweets)):\n",
    "    for tweet in tweets :\n",
    "        text = tweets[i]['text'].lower().strip()\n",
    "    tweet['text'] = text"
   ]
  },
  {
   "cell_type": "code",
   "execution_count": 64,
   "id": "054efdb4-3e13-4b56-8d44-f5975dc32ac2",
   "metadata": {},
   "outputs": [
    {
     "data": {
      "text/plain": [
       "\"i can't wait for the sequel! #gamebrand #excited\""
      ]
     },
     "execution_count": 64,
     "metadata": {},
     "output_type": "execute_result"
    }
   ],
   "source": [
    "tweet['text']"
   ]
  },
  {
   "cell_type": "code",
   "execution_count": 56,
   "id": "1761a5f2-8477-49a6-94b6-92e16efb11de",
   "metadata": {},
   "outputs": [
    {
     "data": {
      "text/plain": [
       "'I love this game!!! #GameBrand'"
      ]
     },
     "execution_count": 56,
     "metadata": {},
     "output_type": "execute_result"
    }
   ],
   "source": [
    "tweets[0]['text']"
   ]
  },
  {
   "cell_type": "code",
   "execution_count": null,
   "id": "f087fe7e-c941-4cbd-8219-c05bca300c4f",
   "metadata": {},
   "outputs": [],
   "source": []
  }
 ],
 "metadata": {
  "kernelspec": {
   "display_name": "Python 3 (ipykernel)",
   "language": "python",
   "name": "python3"
  },
  "language_info": {
   "codemirror_mode": {
    "name": "ipython",
    "version": 3
   },
   "file_extension": ".py",
   "mimetype": "text/x-python",
   "name": "python",
   "nbconvert_exporter": "python",
   "pygments_lexer": "ipython3",
   "version": "3.10.8"
  }
 },
 "nbformat": 4,
 "nbformat_minor": 5
}
