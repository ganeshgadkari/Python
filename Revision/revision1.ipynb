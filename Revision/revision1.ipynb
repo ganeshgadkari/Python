{
 "cells": [
  {
   "cell_type": "markdown",
   "id": "0616f325-8676-402e-9e2e-ff2f4c9204de",
   "metadata": {},
   "source": [
    "We have to build a student database wherein we will have :\n",
    "    \n",
    "    * Student_id\n",
    "    * Gender\n",
    "    * Department\n",
    "    * Sessional_perc\n",
    "    * Final_sem marks\n",
    "    * Backlogs"
   ]
  },
  {
   "cell_type": "code",
   "execution_count": 4,
   "id": "6abedb79-8175-4af6-82ae-298afb9e0209",
   "metadata": {},
   "outputs": [],
   "source": [
    "student_ids = ['S01','S02','S03','S04','S05']\n",
    "gender = ['M','F','F','M','F']\n",
    "dept = ['CS','ECE','ME','IT','ME']\n",
    "sessional_perc = [45,60,73,65.3,71.9]\n",
    "total_marks = [680,800,520,650,780]\n",
    "backlogs = ['NB','B','NB','NB','NB']"
   ]
  },
  {
   "cell_type": "markdown",
   "id": "52c96210-fe2d-4615-ab4f-7176d44a15ef",
   "metadata": {},
   "source": [
    "If any student has recived more than 70% in their sessional, increase the total marks by 2%"
   ]
  },
  {
   "cell_type": "code",
   "execution_count": 6,
   "id": "3ef6a9b3-6af4-4cea-8fb3-b2ca0cdbcfbb",
   "metadata": {},
   "outputs": [
    {
     "name": "stdout",
     "output_type": "stream",
     "text": [
      "marks did not change\n",
      "marks did not change\n",
      "marks did not change\n"
     ]
    },
    {
     "data": {
      "text/plain": [
       "[680, 800, 541.0079999999999, 650, 811.5120000000001]"
      ]
     },
     "execution_count": 6,
     "metadata": {},
     "output_type": "execute_result"
    }
   ],
   "source": [
    "for i in range(len(student_ids)) :\n",
    "    if sessional_perc[i] > 70 :\n",
    "        total_marks[i] = total_marks[i] + total_marks[i]*0.02\n",
    "    else :\n",
    "        print('marks did not change')\n",
    "total_marks"
   ]
  },
  {
   "cell_type": "markdown",
   "id": "31f20432-21a2-4b86-ab8f-a2113ada8b68",
   "metadata": {},
   "source": [
    "S01 and S04 have got updated backlog notice."
   ]
  },
  {
   "cell_type": "code",
   "execution_count": 7,
   "id": "0d723bc0-ccee-4732-b79d-5781b4d1f5bd",
   "metadata": {},
   "outputs": [],
   "source": [
    "updated_students = ['S01','S04']\n",
    "\n",
    "for i in range(len(student_ids)) :\n",
    "    if student_ids[i] in updated_students :\n",
    "        backlogs[i] = 'B'"
   ]
  },
  {
   "cell_type": "code",
   "execution_count": 8,
   "id": "5581f04b-dcae-4483-961c-bf58e4e25b49",
   "metadata": {},
   "outputs": [
    {
     "data": {
      "text/plain": [
       "['B', 'B', 'NB', 'B', 'NB']"
      ]
     },
     "execution_count": 8,
     "metadata": {},
     "output_type": "execute_result"
    }
   ],
   "source": [
    "backlogs"
   ]
  },
  {
   "cell_type": "markdown",
   "id": "1311dc9c-9ad3-460e-adc5-554f12d899a6",
   "metadata": {},
   "source": [
    "If a students total marks is greater then 750 and they have no backlogs and they are from CS dept they will recive a 'High Achiever Scholarship'\n",
    "If a student has no backlogs and marks between 650 and 720 they will recive 'Achiever Scholarship'"
   ]
  },
  {
   "cell_type": "code",
   "execution_count": 23,
   "id": "ba96a638-5e0c-4a42-9bef-a93ac3f4e9f3",
   "metadata": {},
   "outputs": [
    {
     "data": {
      "text/plain": [
       "['CS', 'ECE', 'ME', 'IT', 'ME']"
      ]
     },
     "execution_count": 23,
     "metadata": {},
     "output_type": "execute_result"
    }
   ],
   "source": [
    "dept"
   ]
  },
  {
   "cell_type": "code",
   "execution_count": 24,
   "id": "863cb0a7-dd62-4371-86de-49721ea49d24",
   "metadata": {},
   "outputs": [],
   "source": [
    "dept[4]= 'CS'"
   ]
  },
  {
   "cell_type": "code",
   "execution_count": 26,
   "id": "5869b8f7-bd3b-4caf-88dc-9d8fa2f78235",
   "metadata": {},
   "outputs": [],
   "source": [
    "dept[3]= 'CS'"
   ]
  },
  {
   "cell_type": "code",
   "execution_count": 27,
   "id": "43b0ef46-a450-4e86-966b-12e866d97725",
   "metadata": {},
   "outputs": [
    {
     "data": {
      "text/plain": [
       "['CS', 'ECE', 'ME', 'CS', 'CS']"
      ]
     },
     "execution_count": 27,
     "metadata": {},
     "output_type": "execute_result"
    }
   ],
   "source": [
    "dept"
   ]
  },
  {
   "cell_type": "code",
   "execution_count": 13,
   "id": "144cd329-6a84-4c1d-8e3c-e80ef1d9a3e1",
   "metadata": {},
   "outputs": [
    {
     "data": {
      "text/plain": [
       "['B', 'B', 'NB', 'B', 'NB']"
      ]
     },
     "execution_count": 13,
     "metadata": {},
     "output_type": "execute_result"
    }
   ],
   "source": [
    "backlogs"
   ]
  },
  {
   "cell_type": "code",
   "execution_count": 38,
   "id": "1d374406-1fee-4a77-addd-4ef3141038d3",
   "metadata": {},
   "outputs": [],
   "source": [
    "total_marks[2]=690"
   ]
  },
  {
   "cell_type": "code",
   "execution_count": 39,
   "id": "8fd86a69-467e-45fd-896a-af04c986647d",
   "metadata": {},
   "outputs": [
    {
     "data": {
      "text/plain": [
       "[680, 800, 690, 650, 811.5120000000001]"
      ]
     },
     "execution_count": 39,
     "metadata": {},
     "output_type": "execute_result"
    }
   ],
   "source": [
    "total_marks"
   ]
  },
  {
   "cell_type": "code",
   "execution_count": 40,
   "id": "2930d720-213f-4e56-8f0b-5532b9131bcc",
   "metadata": {},
   "outputs": [],
   "source": [
    "# Listt comprehension\n",
    "\n",
    "scholarships = ['No Scholarship' for i in range (len(student_ids)) ]"
   ]
  },
  {
   "cell_type": "code",
   "execution_count": 41,
   "id": "4fa1925a-811f-4a4a-88a5-9f7ecaac2a10",
   "metadata": {},
   "outputs": [
    {
     "data": {
      "text/plain": [
       "['No Scholarship',\n",
       " 'No Scholarship',\n",
       " 'No Scholarship',\n",
       " 'No Scholarship',\n",
       " 'No Scholarship']"
      ]
     },
     "execution_count": 41,
     "metadata": {},
     "output_type": "execute_result"
    }
   ],
   "source": [
    "scholarships"
   ]
  },
  {
   "cell_type": "code",
   "execution_count": 43,
   "id": "2f36d28c-c366-450d-9787-3257b2f1e78e",
   "metadata": {},
   "outputs": [
    {
     "name": "stdout",
     "output_type": "stream",
     "text": [
      "No scholarship where given\n",
      "No scholarship where given\n",
      "Achiever Scholarship awarded to S03\n",
      "No scholarship where given\n",
      "High Achiever Scholarship awarded to S05\n"
     ]
    }
   ],
   "source": [
    "for i in range(len(student_ids)) :\n",
    "    if dept[i] == 'CS' and total_marks[i] > 750 and backlogs[i] == 'NB' :\n",
    "        scholarships[i] = 'High Achiever Scholarship'\n",
    "        print(f\"High Achiever Scholarship awarded to {student_ids[i]}\")  \n",
    "    ## 'f' will treat whatever is in {} as variables.\n",
    "    elif backlogs[i] == 'NB' and (650<total_marks[i]<=720):\n",
    "        scholarships[i] = 'Achiever Scholarship'\n",
    "        print(f\"Achiever Scholarship awarded to {student_ids[i]}\")\n",
    "    else:\n",
    "        print(\"No scholarship where given\")"
   ]
  },
  {
   "cell_type": "code",
   "execution_count": 44,
   "id": "bec5cc24-d2cc-416e-9c9a-6a366627a4c5",
   "metadata": {},
   "outputs": [
    {
     "data": {
      "text/plain": [
       "['No Scholarship',\n",
       " 'No Scholarship',\n",
       " 'Achiever Scholarship',\n",
       " 'No Scholarship',\n",
       " 'High Achiever Scholarship']"
      ]
     },
     "execution_count": 44,
     "metadata": {},
     "output_type": "execute_result"
    }
   ],
   "source": [
    "scholarships"
   ]
  },
  {
   "cell_type": "code",
   "execution_count": 45,
   "id": "b5c293b1-00b0-4d3a-a636-9cf30fde99b9",
   "metadata": {},
   "outputs": [],
   "source": [
    "std_db = {'Student ID' : student_ids,\n",
    "          'Gender': gender,\n",
    "          'Department': dept,\n",
    "          'Sessional Perc': sessional_perc,\n",
    "          'Total Marks': total_marks,\n",
    "          'Backlog': backlogs,\n",
    "          'Scholarships': scholarships}"
   ]
  },
  {
   "cell_type": "code",
   "execution_count": 46,
   "id": "c7b5f292-b9ae-405d-816f-36a211e2ba7e",
   "metadata": {},
   "outputs": [
    {
     "data": {
      "text/plain": [
       "{'Student ID': ['S01', 'S02', 'S03', 'S04', 'S05'],\n",
       " 'Gender': ['M', 'F', 'F', 'M', 'F'],\n",
       " 'Department': ['CS', 'ECE', 'ME', 'CS', 'CS'],\n",
       " 'Sessional Perc': [45, 60, 73, 65.3, 71.9],\n",
       " 'Total Marks': [680, 800, 690, 650, 811.5120000000001],\n",
       " 'Backlog': ['B', 'B', 'NB', 'B', 'NB'],\n",
       " 'Scholarships': ['No Scholarship',\n",
       "  'No Scholarship',\n",
       "  'Achiever Scholarship',\n",
       "  'No Scholarship',\n",
       "  'High Achiever Scholarship']}"
      ]
     },
     "execution_count": 46,
     "metadata": {},
     "output_type": "execute_result"
    }
   ],
   "source": [
    "std_db"
   ]
  },
  {
   "cell_type": "code",
   "execution_count": 47,
   "id": "2b265043-2b7c-4714-adc5-518c5928628b",
   "metadata": {},
   "outputs": [
    {
     "data": {
      "text/plain": [
       "dict_keys(['Student ID', 'Gender', 'Department', 'Sessional Perc', 'Total Marks', 'Backlog', 'Scholarships'])"
      ]
     },
     "execution_count": 47,
     "metadata": {},
     "output_type": "execute_result"
    }
   ],
   "source": [
    "std_db.keys()"
   ]
  },
  {
   "cell_type": "code",
   "execution_count": 48,
   "id": "2182d774-e75b-422b-a75a-a3feb3a4064b",
   "metadata": {},
   "outputs": [
    {
     "data": {
      "text/plain": [
       "dict_values([['S01', 'S02', 'S03', 'S04', 'S05'], ['M', 'F', 'F', 'M', 'F'], ['CS', 'ECE', 'ME', 'CS', 'CS'], [45, 60, 73, 65.3, 71.9], [680, 800, 690, 650, 811.5120000000001], ['B', 'B', 'NB', 'B', 'NB'], ['No Scholarship', 'No Scholarship', 'Achiever Scholarship', 'No Scholarship', 'High Achiever Scholarship']])"
      ]
     },
     "execution_count": 48,
     "metadata": {},
     "output_type": "execute_result"
    }
   ],
   "source": [
    "std_db.values()"
   ]
  },
  {
   "cell_type": "code",
   "execution_count": 49,
   "id": "4f2f5c1f-d89e-4a72-bab4-6c24f2a09810",
   "metadata": {},
   "outputs": [
    {
     "data": {
      "text/plain": [
       "dict_items([('Student ID', ['S01', 'S02', 'S03', 'S04', 'S05']), ('Gender', ['M', 'F', 'F', 'M', 'F']), ('Department', ['CS', 'ECE', 'ME', 'CS', 'CS']), ('Sessional Perc', [45, 60, 73, 65.3, 71.9]), ('Total Marks', [680, 800, 690, 650, 811.5120000000001]), ('Backlog', ['B', 'B', 'NB', 'B', 'NB']), ('Scholarships', ['No Scholarship', 'No Scholarship', 'Achiever Scholarship', 'No Scholarship', 'High Achiever Scholarship'])])"
      ]
     },
     "execution_count": 49,
     "metadata": {},
     "output_type": "execute_result"
    }
   ],
   "source": [
    "std_db.items()"
   ]
  },
  {
   "cell_type": "code",
   "execution_count": null,
   "id": "fd11b3ea-b308-4194-9617-77a288279951",
   "metadata": {},
   "outputs": [],
   "source": []
  }
 ],
 "metadata": {
  "kernelspec": {
   "display_name": "Python 3 (ipykernel)",
   "language": "python",
   "name": "python3"
  },
  "language_info": {
   "codemirror_mode": {
    "name": "ipython",
    "version": 3
   },
   "file_extension": ".py",
   "mimetype": "text/x-python",
   "name": "python",
   "nbconvert_exporter": "python",
   "pygments_lexer": "ipython3",
   "version": "3.10.8"
  }
 },
 "nbformat": 4,
 "nbformat_minor": 5
}
