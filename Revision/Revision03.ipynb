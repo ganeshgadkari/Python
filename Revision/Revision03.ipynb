{
 "cells": [
  {
   "cell_type": "markdown",
   "id": "7a3ca051-5b77-44d5-a9d3-885ff5862fa3",
   "metadata": {},
   "source": [
    "Map Function"
   ]
  },
  {
   "cell_type": "code",
   "execution_count": 34,
   "id": "8086274d-2dd2-46ac-b616-d0ea02478309",
   "metadata": {},
   "outputs": [],
   "source": [
    "l = [1,2,3,4,5,6]"
   ]
  },
  {
   "cell_type": "code",
   "execution_count": 35,
   "id": "c204a452-2b32-4fca-bf28-550900448fc2",
   "metadata": {},
   "outputs": [
    {
     "data": {
      "text/plain": [
       "[1, 2, 3, 4, 5, 6]"
      ]
     },
     "execution_count": 35,
     "metadata": {},
     "output_type": "execute_result"
    }
   ],
   "source": [
    "l"
   ]
  },
  {
   "cell_type": "code",
   "execution_count": 36,
   "id": "41a84ca4-994e-491a-9d29-1d807e3e26b0",
   "metadata": {},
   "outputs": [],
   "source": [
    "def sq(x):\n",
    "    return x**2"
   ]
  },
  {
   "cell_type": "code",
   "execution_count": 37,
   "id": "970619e2-6373-4b41-a108-407ba68d8ef0",
   "metadata": {},
   "outputs": [
    {
     "data": {
      "text/plain": [
       "16"
      ]
     },
     "execution_count": 37,
     "metadata": {},
     "output_type": "execute_result"
    }
   ],
   "source": [
    "sq(4)"
   ]
  },
  {
   "cell_type": "code",
   "execution_count": 38,
   "id": "04cdcf76-1c90-4f12-addb-c4a1393fd979",
   "metadata": {},
   "outputs": [
    {
     "data": {
      "text/plain": [
       "[1, 4, 9, 16, 25, 36]"
      ]
     },
     "execution_count": 38,
     "metadata": {},
     "output_type": "execute_result"
    }
   ],
   "source": [
    "list(map(sq,l))"
   ]
  },
  {
   "cell_type": "code",
   "execution_count": 39,
   "id": "e6f30d80-16db-4407-a871-af99ae3f0712",
   "metadata": {},
   "outputs": [
    {
     "data": {
      "text/plain": [
       "[1, 4, 9, 16, 25, 36]"
      ]
     },
     "execution_count": 39,
     "metadata": {},
     "output_type": "execute_result"
    }
   ],
   "source": [
    "list(map(lambda x : x**2,l))"
   ]
  },
  {
   "cell_type": "code",
   "execution_count": 40,
   "id": "921a0c99-790a-4a29-92ab-5d6774361d46",
   "metadata": {},
   "outputs": [
    {
     "data": {
      "text/plain": [
       "[2, 4, 6]"
      ]
     },
     "execution_count": 40,
     "metadata": {},
     "output_type": "execute_result"
    }
   ],
   "source": [
    "list(filter(lambda x : x%2==0,l))"
   ]
  },
  {
   "cell_type": "code",
   "execution_count": 41,
   "id": "4b471fbd-a0ca-41fc-894e-7708565c582a",
   "metadata": {},
   "outputs": [
    {
     "data": {
      "text/plain": [
       "[1, 3, 5]"
      ]
     },
     "execution_count": 41,
     "metadata": {},
     "output_type": "execute_result"
    }
   ],
   "source": [
    "list(filter(lambda x : x%2!=0,l))"
   ]
  },
  {
   "cell_type": "code",
   "execution_count": 42,
   "id": "2b9c8605-a7e3-43c2-ad18-2539b4876d25",
   "metadata": {},
   "outputs": [],
   "source": [
    "from functools import reduce"
   ]
  },
  {
   "cell_type": "code",
   "execution_count": 43,
   "id": "0760506d-3e6b-427e-9ee8-f6f2cc6b6aba",
   "metadata": {},
   "outputs": [
    {
     "data": {
      "text/plain": [
       "21"
      ]
     },
     "execution_count": 43,
     "metadata": {},
     "output_type": "execute_result"
    }
   ],
   "source": [
    "reduce(lambda x,y : x+y,l)"
   ]
  },
  {
   "cell_type": "markdown",
   "id": "8f709767-9aac-4e81-ba34-6d53c05473a0",
   "metadata": {},
   "source": [
    "Scenario : We are developing a program to process online store orders. Each order contains information about the customer, the items purchased and additional details. you need to create a set of functions to handle different aspects of order processing."
   ]
  },
  {
   "cell_type": "code",
   "execution_count": 44,
   "id": "adad874e-3c2e-4031-9da7-e4f2a7e942ea",
   "metadata": {},
   "outputs": [],
   "source": [
    "def process_customer_info(name,email,**kwargs):\n",
    "    print(f\"Processing customer info for {name}\")\n",
    "    print(f\"Email: {email}\")\n",
    "    print(f\"Additional information : \")\n",
    "    \n",
    "    for k,v in kwargs.items():\n",
    "        print(f\"{k}:{v}\")\n",
    "        \n",
    "def process_order_items(*args):\n",
    "    print(\"Processing order items : \")\n",
    "    \n",
    "    for item in args:\n",
    "        print(f\"{item}\")\n",
    "\n",
    "def calculate_total_amount(*args):\n",
    "    total =0\n",
    "    \n",
    "    for arg in args:\n",
    "        if isinstance(arg,(int,float)):\n",
    "            total = total+arg\n",
    "        else:\n",
    "            print(f\"Invalid item price : {arg}\")\n",
    "    return total\n",
    "\n",
    "#print a receipt\n",
    "\n",
    "def process_order(customer_info,*items,**kwargs):\n",
    "    print(\"Order processing initiated\")\n",
    "    process_customer_info(**customer_info)\n",
    "    process_order_items(*items)\n",
    "    \n",
    "    item_prices = kwargs.get(\"item_prices.\",())\n",
    "    total_amount = calculate_total_amount(*item_prices)\n",
    "    print(f\"total_amount : ${total_amount}\")\n",
    "    print(\"order process completed\")\n",
    "    \n",
    "    print(\"----Receipt----\")\n",
    "    print(f\"Customer : {customer_info['name']}\")"
   ]
  },
  {
   "cell_type": "code",
   "execution_count": 45,
   "id": "71e5c3e3-234e-4a36-ba97-f1980508a543",
   "metadata": {},
   "outputs": [],
   "source": [
    "customer_info={\n",
    "            \"name\":\"john\",\n",
    "    \"email\":\"john@gmail.com\",\n",
    "    \"phone\":2434523542\n",
    "\n",
    "}\n",
    "\n",
    "items = (\"Shirt\",\"Jeans\",\"Shoes\")\n",
    "\n",
    "order_details = {\n",
    "    \"address\":\"xyz\",\n",
    "    \"item_prices\":(15,99,10,20)\n",
    "    \n",
    "}"
   ]
  },
  {
   "cell_type": "code",
   "execution_count": 46,
   "id": "4e4ee200-159c-462d-99f0-218cad08d010",
   "metadata": {},
   "outputs": [
    {
     "name": "stdout",
     "output_type": "stream",
     "text": [
      "Order processing initiated\n",
      "Processing customer info for john\n",
      "Email: john@gmail.com\n",
      "Additional information : \n",
      "phone:2434523542\n",
      "Processing order items : \n",
      "Shirt\n",
      "Jeans\n",
      "Shoes\n",
      "total_amount : $0\n",
      "order process completed\n",
      "----Receipt----\n",
      "Customer : john\n"
     ]
    }
   ],
   "source": [
    "process_order(customer_info,*items,**order_details)"
   ]
  },
  {
   "cell_type": "code",
   "execution_count": null,
   "id": "2cfe9e4f-b3f4-4247-9e78-44d9544b698f",
   "metadata": {},
   "outputs": [],
   "source": []
  }
 ],
 "metadata": {
  "kernelspec": {
   "display_name": "Python 3 (ipykernel)",
   "language": "python",
   "name": "python3"
  },
  "language_info": {
   "codemirror_mode": {
    "name": "ipython",
    "version": 3
   },
   "file_extension": ".py",
   "mimetype": "text/x-python",
   "name": "python",
   "nbconvert_exporter": "python",
   "pygments_lexer": "ipython3",
   "version": "3.10.8"
  }
 },
 "nbformat": 4,
 "nbformat_minor": 5
}
