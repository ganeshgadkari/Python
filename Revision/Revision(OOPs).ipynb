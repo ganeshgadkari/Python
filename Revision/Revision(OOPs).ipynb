{
 "cells": [
  {
   "cell_type": "code",
   "execution_count": 2,
   "id": "b07da0c9-b531-424d-81b6-a99ab92d8209",
   "metadata": {},
   "outputs": [],
   "source": [
    "class car:\n",
    "    def __init__(self, make, model, color):\n",
    "        self.make = make\n",
    "        self.model = model\n",
    "        self.color = color\n",
    "        \n",
    "    def milage(self):\n",
    "        print(\"The milage of the car is 100kms\")"
   ]
  },
  {
   "cell_type": "code",
   "execution_count": 3,
   "id": "dca980cd-0689-45d1-b02f-826c779c727a",
   "metadata": {},
   "outputs": [],
   "source": [
    "brezza = car(\"maruti\",\"suv\",\"blue\")"
   ]
  },
  {
   "cell_type": "code",
   "execution_count": 4,
   "id": "e0da8f8e-c715-44d6-888c-f1587fdd149b",
   "metadata": {},
   "outputs": [
    {
     "name": "stdout",
     "output_type": "stream",
     "text": [
      "The milage of the car is 100kms\n"
     ]
    }
   ],
   "source": [
    "brezza.milage()"
   ]
  },
  {
   "cell_type": "markdown",
   "id": "3fcd18b3-02ba-4f92-ace0-1cdbb20f75cb",
   "metadata": {},
   "source": [
    "Club App"
   ]
  },
  {
   "cell_type": "code",
   "execution_count": 15,
   "id": "e7a76ed2-1a2a-48ad-bac4-208d8befc6bd",
   "metadata": {},
   "outputs": [],
   "source": [
    "class Club:\n",
    "    \n",
    "    def __init__(self,clubName, maxMembers):\n",
    "        self.clubName = clubName\n",
    "        self.maxMembers = maxMembers\n",
    "        self.memberList = []\n",
    "    \n",
    "    def addMember(self, name):\n",
    "        #we will check if max membership has been reached or not\n",
    "        if self.maxMembers > len(self.memberList) :\n",
    "            self.memberList.append(name)\n",
    "        else:\n",
    "            print(\"Sorry, we cannot add name \",name,\" to \", self.clubName,\" club.\")\n",
    "            print(\"This club already has the maximum number of  \",self.maxMembers)\n",
    "            \n",
    "    def report(self):\n",
    "        print()\n",
    "        print(\"Here are the \",len(self.memberList), \"members of the \", self.clubName)\n",
    "        \n",
    "        for name in self.memberList:\n",
    "            print(\" \"+ name)\n",
    "        print()"
   ]
  },
  {
   "cell_type": "code",
   "execution_count": 16,
   "id": "d6b765f6-20f7-4e54-a9e3-47d13520457f",
   "metadata": {},
   "outputs": [],
   "source": [
    "data_science = Club(\"data science\",5)"
   ]
  },
  {
   "cell_type": "code",
   "execution_count": 17,
   "id": "36ed48b8-ef39-4bea-b596-73469afc76a0",
   "metadata": {},
   "outputs": [],
   "source": [
    "data_science.addMember(\"name1\")"
   ]
  },
  {
   "cell_type": "code",
   "execution_count": 18,
   "id": "383fcbf8-cc2a-4085-8740-a79e87f95946",
   "metadata": {},
   "outputs": [],
   "source": [
    "data_science.addMember(\"name2\")\n",
    "data_science.addMember(\"name3\")\n",
    "data_science.addMember(\"name4\")\n",
    "data_science.addMember(\"name5\")"
   ]
  },
  {
   "cell_type": "code",
   "execution_count": 19,
   "id": "11797000-6a2d-4010-84b1-f16bb97316f0",
   "metadata": {},
   "outputs": [
    {
     "name": "stdout",
     "output_type": "stream",
     "text": [
      "Sorry, we cannot add name  name6  to  data science  club.\n",
      "This club already has the maximum number of   5\n"
     ]
    }
   ],
   "source": [
    "data_science.addMember(\"name6\")"
   ]
  },
  {
   "cell_type": "code",
   "execution_count": 20,
   "id": "e8fd3ed8-7c68-4a77-adf2-a66ca6567f7a",
   "metadata": {},
   "outputs": [],
   "source": [
    "data_science.memberList.append(\"name6\")"
   ]
  },
  {
   "cell_type": "code",
   "execution_count": 21,
   "id": "0bc20b31-237e-4f15-bc77-1ebbfb7c6390",
   "metadata": {},
   "outputs": [],
   "source": [
    "class Club:\n",
    "    \n",
    "    def __init__(self,clubName, maxMembers):\n",
    "        self._clubName = clubName\n",
    "        self._maxMembers = maxMembers\n",
    "        self._memberList = []\n",
    "    \n",
    "    def addMember(self, name):\n",
    "        #we will check if max membership has been reached or not\n",
    "        if self._maxMembers > len(self._memberList) :\n",
    "            self._memberList.append(name)\n",
    "        else:\n",
    "            print(\"Sorry, we cannot add name \",name,\" to \", self._clubName,\" club.\")\n",
    "            print(\"This club already has the maximum number of  \",self._maxMembers)\n",
    "            \n",
    "    def report(self):\n",
    "        print()\n",
    "        print(\"Here are the \",len(self._memberList), \"members of the \", self._clubName)\n",
    "        \n",
    "        for name in self._memberList:\n",
    "            print(\" \"+ name)\n",
    "        print()"
   ]
  },
  {
   "cell_type": "code",
   "execution_count": 25,
   "id": "04237ff4-ce27-46a7-add2-cc5ae0435221",
   "metadata": {},
   "outputs": [],
   "source": [
    "ml_club = Club(\"Machine learning\",3)"
   ]
  },
  {
   "cell_type": "code",
   "execution_count": 26,
   "id": "17f3dec1-203f-4239-8454-f07cd2c705a2",
   "metadata": {},
   "outputs": [],
   "source": [
    "ml_club.addMember(\"name1\")\n",
    "ml_club.addMember(\"name2\")\n",
    "ml_club.addMember(\"name3\")"
   ]
  },
  {
   "cell_type": "code",
   "execution_count": 27,
   "id": "f0b1afc7-008d-4cf6-81e2-726ff98ee6ff",
   "metadata": {},
   "outputs": [
    {
     "name": "stdout",
     "output_type": "stream",
     "text": [
      "Sorry, we cannot add name  name4  to  Machine learning  club.\n",
      "This club already has the maximum number of   3\n"
     ]
    }
   ],
   "source": [
    "ml_club.addMember(\"name4\")"
   ]
  },
  {
   "cell_type": "code",
   "execution_count": 28,
   "id": "8eea180f-6646-492f-b768-43960ff64484",
   "metadata": {},
   "outputs": [],
   "source": [
    "ml_club._memberList.append(\"name4\")"
   ]
  },
  {
   "cell_type": "markdown",
   "id": "9c7e1401-7b86-44f5-966f-37f82087bddf",
   "metadata": {},
   "source": [
    "Inheritance"
   ]
  },
  {
   "cell_type": "markdown",
   "id": "eb106d78-538e-4a26-b6e5-15d7ddd56302",
   "metadata": {},
   "source": [
    "Creating a new class from an existing class"
   ]
  },
  {
   "cell_type": "code",
   "execution_count": 30,
   "id": "53098265-e371-4a5a-8128-b50a5d50c8c9",
   "metadata": {},
   "outputs": [],
   "source": [
    "class Animal:\n",
    "    def __init__(self,name,age):\n",
    "        self.name = name\n",
    "        self.age = age\n",
    "        \n",
    "    def eat(self):\n",
    "        print(f\"{self.name} is eating\")\n",
    "        \n",
    "    def sleep(self):\n",
    "        print(f\"{self.name} is sleeping\")\n",
    "        \n",
    "class Lion(Animal):\n",
    "    \n",
    "    def roar(self):\n",
    "        print(f\"{self.name} is roaring\")\n",
    "        \n",
    "class Monkey(Animal):\n",
    "    \n",
    "    def climb(self):\n",
    "        print(f\"{self.name} is climbing\")"
   ]
  },
  {
   "cell_type": "code",
   "execution_count": 31,
   "id": "8e862b17-5438-4b4e-960c-5b6cfce04384",
   "metadata": {},
   "outputs": [],
   "source": [
    "simba = Lion(\"simba\",5)"
   ]
  },
  {
   "cell_type": "code",
   "execution_count": 32,
   "id": "a38bfc3e-15bf-46cd-a912-bc5eb6906182",
   "metadata": {},
   "outputs": [
    {
     "name": "stdout",
     "output_type": "stream",
     "text": [
      "simba is eating\n"
     ]
    }
   ],
   "source": [
    "simba.eat()"
   ]
  },
  {
   "cell_type": "code",
   "execution_count": 33,
   "id": "739ea5f5-3018-4e23-90fd-7d92fbdfcb46",
   "metadata": {},
   "outputs": [],
   "source": [
    "chimp = Monkey(\"chimp\",8)"
   ]
  },
  {
   "cell_type": "code",
   "execution_count": 34,
   "id": "6291f51b-d6aa-4d87-835a-5fe05bd34465",
   "metadata": {},
   "outputs": [
    {
     "name": "stdout",
     "output_type": "stream",
     "text": [
      "chimp is sleeping\n"
     ]
    }
   ],
   "source": [
    "chimp.sleep()"
   ]
  },
  {
   "cell_type": "markdown",
   "id": "8564857f-ffa7-4a8c-8c6b-3c17821fa41c",
   "metadata": {},
   "source": [
    "Banking Example"
   ]
  },
  {
   "cell_type": "code",
   "execution_count": 35,
   "id": "1a74feed-c4e7-4303-bc93-4de00109f8b1",
   "metadata": {},
   "outputs": [],
   "source": [
    "class BankAccount:\n",
    "    \n",
    "    def __init__(self,acc_no,acc_holder):\n",
    "        self.acc_no = acc_no\n",
    "        self.acc_holder = acc_holder\n",
    "        self.balance = 0\n",
    "        \n",
    "    def deposit(self,amount):\n",
    "        self.balance = self.balance + amount\n",
    "        return self.balance\n",
    "    \n",
    "    def withraw(self, amount):\n",
    "        if amount > self.balance:\n",
    "            self.balance = self.balance - amount\n",
    "            print(\"Insufficient balance !!\")\n",
    "        else:\n",
    "            self.balance = self.balance - amount\n",
    "        return self.balance\n",
    "    \n",
    "    def get_balance(self):\n",
    "        return self.balance\n",
    "    \n",
    "class SavingsAccount(BankAccount):\n",
    "    \n",
    "    def __init__(self, acc_no, acc_holder, interest_rate):\n",
    "        super().__init__(acc_no,acc_holder)\n",
    "        self.interest_rate = interest_rate\n",
    "        \n",
    "    def add_interest(self):\n",
    "        interest = self.balance*self.interest_rate/100\n",
    "        self.balance = self.balance+interest\n",
    "        return self.balance\n",
    "    \n",
    "class CurrentAccount(BankAccount):\n",
    "    \n",
    "    def __init__(self,acc_no,acc_holder,overdraft_limit):\n",
    "        super().__init__(acc_no,acc_holder)\n",
    "        self.overdraft_limit = overdraft_limit\n",
    "        \n",
    "    def withraw(self,amount):\n",
    "        if amount > self.balance + self.overdraft_limit:\n",
    "            print(\"OD Limit exceeded !!\")\n",
    "        else:\n",
    "            self.balance = self.balance - amount\n",
    "            return self.balance"
   ]
  },
  {
   "cell_type": "code",
   "execution_count": 38,
   "id": "1c1b5c70-3cdc-440e-be8c-10fa7e4c805b",
   "metadata": {},
   "outputs": [],
   "source": [
    "savings_acc = SavingsAccount(4351,\"ABC\",2.5)"
   ]
  },
  {
   "cell_type": "code",
   "execution_count": 41,
   "id": "212076e5-48c0-4e9e-9781-f746a8f6838d",
   "metadata": {},
   "outputs": [
    {
     "data": {
      "text/plain": [
       "1000"
      ]
     },
     "execution_count": 41,
     "metadata": {},
     "output_type": "execute_result"
    }
   ],
   "source": [
    "savings_acc.deposit(1000)"
   ]
  },
  {
   "cell_type": "code",
   "execution_count": 42,
   "id": "519937ee-aabe-45c4-ae08-b309e285212e",
   "metadata": {},
   "outputs": [
    {
     "data": {
      "text/plain": [
       "1025.0"
      ]
     },
     "execution_count": 42,
     "metadata": {},
     "output_type": "execute_result"
    }
   ],
   "source": [
    "savings_acc.add_interest()"
   ]
  },
  {
   "cell_type": "code",
   "execution_count": 43,
   "id": "aec2e666-5969-48c0-9444-34e66b5c3c38",
   "metadata": {},
   "outputs": [
    {
     "data": {
      "text/plain": [
       "925.0"
      ]
     },
     "execution_count": 43,
     "metadata": {},
     "output_type": "execute_result"
    }
   ],
   "source": [
    "savings_acc.withraw(100)"
   ]
  },
  {
   "cell_type": "markdown",
   "id": "351496a7-f49c-4a47-9170-e43fdd5a36d2",
   "metadata": {},
   "source": [
    "Polymorphism"
   ]
  },
  {
   "cell_type": "markdown",
   "id": "d8727923-b40d-4766-be60-c2c0f670d406",
   "metadata": {},
   "source": [
    "Polymorphism refers to the ability to defferent data types to be manipulated with the same interface(with same method or object) "
   ]
  },
  {
   "cell_type": "code",
   "execution_count": 44,
   "id": "5805a0e0-c757-4c64-81a8-51181cc71645",
   "metadata": {},
   "outputs": [],
   "source": [
    "class Dog:\n",
    "    def __init__(self,name):\n",
    "        self.name = name\n",
    "        \n",
    "    def sound(self):\n",
    "        print(self.name, \"says woof woof woof\")\n",
    "        \n",
    "class Cat:\n",
    "    def __init__(self,name):\n",
    "        self.name = name\n",
    "        \n",
    "    def sound(self):\n",
    "        print(self.name, \"says meow meow meow\")\n",
    "        \n",
    "class Bird:\n",
    "    def __init__(self,name):\n",
    "        self.name = name\n",
    "        \n",
    "    def sound(self):\n",
    "        print(self.name, \"says tweet tweet tweet\")"
   ]
  },
  {
   "cell_type": "code",
   "execution_count": 45,
   "id": "88835bf8-121e-4afb-83e4-ea8844585d88",
   "metadata": {},
   "outputs": [],
   "source": [
    "dog1 = Dog(\"timmy\")"
   ]
  },
  {
   "cell_type": "code",
   "execution_count": 46,
   "id": "56ddfe41-ed13-4969-99a3-7150fa8b9a2b",
   "metadata": {},
   "outputs": [],
   "source": [
    "dog2 = Dog(\"Jimmy\")"
   ]
  },
  {
   "cell_type": "code",
   "execution_count": 47,
   "id": "13c246c6-1c2c-4da4-9984-365409b0a86e",
   "metadata": {},
   "outputs": [],
   "source": [
    "cat1 = Cat(\"kitty\")"
   ]
  },
  {
   "cell_type": "code",
   "execution_count": 48,
   "id": "e69db407-b555-4779-88ab-e21094b26443",
   "metadata": {},
   "outputs": [],
   "source": [
    "cat2 = Cat(\"fluffy\")"
   ]
  },
  {
   "cell_type": "code",
   "execution_count": 49,
   "id": "814d8b09-ea6b-4a73-b6e2-79a4be28db9b",
   "metadata": {},
   "outputs": [],
   "source": [
    "bird1 = Bird(\"Angry\")"
   ]
  },
  {
   "cell_type": "code",
   "execution_count": 50,
   "id": "3b031a47-58c4-4cfc-b273-c540b1d26df3",
   "metadata": {},
   "outputs": [],
   "source": [
    "bird2 = Bird(\"fun\")"
   ]
  },
  {
   "cell_type": "code",
   "execution_count": 51,
   "id": "dd34e4fd-a6be-41bd-abc8-8af87ca98c99",
   "metadata": {},
   "outputs": [],
   "source": [
    "animals = [dog1,dog2,cat1,cat2,bird1,bird2]"
   ]
  },
  {
   "cell_type": "code",
   "execution_count": 52,
   "id": "12e6107f-49da-41a9-8aac-67c49b6f2eac",
   "metadata": {},
   "outputs": [
    {
     "name": "stdout",
     "output_type": "stream",
     "text": [
      "timmy says woof woof woof\n",
      "Jimmy says woof woof woof\n",
      "kitty says meow meow meow\n",
      "fluffy says meow meow meow\n",
      "Angry says tweet tweet tweet\n",
      "fun says tweet tweet tweet\n"
     ]
    }
   ],
   "source": [
    "for animal in animals:\n",
    "    animal.sound()"
   ]
  },
  {
   "cell_type": "code",
   "execution_count": 53,
   "id": "ae26c421-d10f-4c87-ad59-a1c9626b465b",
   "metadata": {},
   "outputs": [],
   "source": [
    "from abc import ABC, abstractmethod"
   ]
  },
  {
   "cell_type": "code",
   "execution_count": 54,
   "id": "bcab3d07-9a5e-4699-b29d-8d493fb59cad",
   "metadata": {},
   "outputs": [],
   "source": [
    "class ABSclass(ABC):\n",
    "    def print(self,x):\n",
    "        print(\"Passed value : \", x)\n",
    "        \n",
    "    @abstractmethod\n",
    "    def task(self):\n",
    "        print(\"we are inside the Absclass task\")\n",
    "        \n",
    "class test_calss(ABSclass):\n",
    "    def task(self):\n",
    "        print(\"we are inside the test_class task\")\n",
    "        \n",
    "class example_class(ABSclass):\n",
    "    def task(self):\n",
    "        print(\"we are inside the example_class task\")"
   ]
  },
  {
   "cell_type": "code",
   "execution_count": 57,
   "id": "7e748f39-500a-457b-ba37-6c5c62f82102",
   "metadata": {},
   "outputs": [],
   "source": [
    "test_obj = test_calss()"
   ]
  },
  {
   "cell_type": "code",
   "execution_count": 59,
   "id": "e695f9ad-ccd4-485c-a67c-cfbd94aebaa3",
   "metadata": {},
   "outputs": [
    {
     "name": "stdout",
     "output_type": "stream",
     "text": [
      "Passed value :  100\n"
     ]
    }
   ],
   "source": [
    "test_obj.print(100)"
   ]
  },
  {
   "cell_type": "code",
   "execution_count": 60,
   "id": "a436c76c-4cff-41dd-b027-536c10dcd06d",
   "metadata": {},
   "outputs": [
    {
     "name": "stdout",
     "output_type": "stream",
     "text": [
      "True\n"
     ]
    }
   ],
   "source": [
    "print(isinstance(test_obj,ABSclass))"
   ]
  },
  {
   "cell_type": "code",
   "execution_count": null,
   "id": "52d6d1d6-cc60-4d2a-96dd-6a6e66353115",
   "metadata": {},
   "outputs": [],
   "source": []
  }
 ],
 "metadata": {
  "kernelspec": {
   "display_name": "Python 3 (ipykernel)",
   "language": "python",
   "name": "python3"
  },
  "language_info": {
   "codemirror_mode": {
    "name": "ipython",
    "version": 3
   },
   "file_extension": ".py",
   "mimetype": "text/x-python",
   "name": "python",
   "nbconvert_exporter": "python",
   "pygments_lexer": "ipython3",
   "version": "3.10.8"
  }
 },
 "nbformat": 4,
 "nbformat_minor": 5
}
