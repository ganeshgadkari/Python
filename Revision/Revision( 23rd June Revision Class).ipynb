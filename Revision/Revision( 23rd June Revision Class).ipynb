{
 "cells": [
  {
   "cell_type": "code",
   "execution_count": 1,
   "id": "318b8e1e-7350-498e-8711-86f687657481",
   "metadata": {},
   "outputs": [],
   "source": [
    "import logging as lg"
   ]
  },
  {
   "cell_type": "code",
   "execution_count": 2,
   "id": "9d17e81f-b898-4512-b7e4-a5460dc29aef",
   "metadata": {},
   "outputs": [],
   "source": [
    "lg.basicConfig(filename = '/home/jovyan/work/Revision classes/test.log', level = lg.INFO, format = '%(asctime)s %(message)s')"
   ]
  },
  {
   "cell_type": "code",
   "execution_count": 3,
   "id": "b1bdeb9b-adda-4a2c-8d47-96ea331f36e1",
   "metadata": {},
   "outputs": [],
   "source": [
    "lg.info('This is my test info sentense')"
   ]
  },
  {
   "cell_type": "code",
   "execution_count": 4,
   "id": "711c4dde-ad2b-4548-a6a7-2a71734bfd4c",
   "metadata": {},
   "outputs": [],
   "source": [
    "lg.warning('This is test warning sentense')"
   ]
  },
  {
   "cell_type": "code",
   "execution_count": 5,
   "id": "e8e3820f-1f1e-49c9-94bc-9e8048917eec",
   "metadata": {},
   "outputs": [],
   "source": [
    "def test(a,b):\n",
    "    try:\n",
    "        lg.info(str(a)+str(b))\n",
    "        div = a/b\n",
    "        return div\n",
    "    except Exception as e:\n",
    "        print('your log file will contain info of theproblem we have encountered')\n",
    "        lg.error('error has occured')"
   ]
  },
  {
   "cell_type": "code",
   "execution_count": 6,
   "id": "75a829d9-f572-450c-a6ed-5e9f37ede965",
   "metadata": {},
   "outputs": [
    {
     "name": "stdout",
     "output_type": "stream",
     "text": [
      "your log file will contain info of theproblem we have encountered\n"
     ]
    }
   ],
   "source": [
    "test(4,0)"
   ]
  },
  {
   "cell_type": "code",
   "execution_count": null,
   "id": "32fc7a8f-00af-4131-9487-9f22e640190a",
   "metadata": {},
   "outputs": [],
   "source": []
  }
 ],
 "metadata": {
  "kernelspec": {
   "display_name": "Python 3 (ipykernel)",
   "language": "python",
   "name": "python3"
  },
  "language_info": {
   "codemirror_mode": {
    "name": "ipython",
    "version": 3
   },
   "file_extension": ".py",
   "mimetype": "text/x-python",
   "name": "python",
   "nbconvert_exporter": "python",
   "pygments_lexer": "ipython3",
   "version": "3.10.8"
  }
 },
 "nbformat": 4,
 "nbformat_minor": 5
}
