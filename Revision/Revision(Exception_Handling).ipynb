{
 "cells": [
  {
   "cell_type": "markdown",
   "id": "ade5fd4c-6c2b-47b1-8b81-293ef7b0caa9",
   "metadata": {},
   "source": [
    "Try and Except - Exception Handling"
   ]
  },
  {
   "cell_type": "code",
   "execution_count": 1,
   "id": "13813af7-38ac-4437-8423-53e28504f4e1",
   "metadata": {},
   "outputs": [
    {
     "name": "stdout",
     "output_type": "stream",
     "text": [
      "21.0\n",
      "3.5\n"
     ]
    },
    {
     "ename": "ZeroDivisionError",
     "evalue": "division by zero",
     "output_type": "error",
     "traceback": [
      "\u001b[0;31m---------------------------------------------------------------------------\u001b[0m",
      "\u001b[0;31mZeroDivisionError\u001b[0m                         Traceback (most recent call last)",
      "Cell \u001b[0;32mIn[1], line 6\u001b[0m\n\u001b[1;32m      4\u001b[0m \u001b[38;5;28mprint\u001b[39m(spam(\u001b[38;5;241m2\u001b[39m))\n\u001b[1;32m      5\u001b[0m \u001b[38;5;28mprint\u001b[39m(spam(\u001b[38;5;241m12\u001b[39m))\n\u001b[0;32m----> 6\u001b[0m \u001b[38;5;28mprint\u001b[39m(\u001b[43mspam\u001b[49m\u001b[43m(\u001b[49m\u001b[38;5;241;43m0\u001b[39;49m\u001b[43m)\u001b[49m)\n\u001b[1;32m      7\u001b[0m \u001b[38;5;28mprint\u001b[39m(spam(\u001b[38;5;241m1\u001b[39m))\n",
      "Cell \u001b[0;32mIn[1], line 2\u001b[0m, in \u001b[0;36mspam\u001b[0;34m(divideBy)\u001b[0m\n\u001b[1;32m      1\u001b[0m \u001b[38;5;28;01mdef\u001b[39;00m \u001b[38;5;21mspam\u001b[39m(divideBy):\n\u001b[0;32m----> 2\u001b[0m     \u001b[38;5;28;01mreturn\u001b[39;00m \u001b[38;5;241;43m42\u001b[39;49m\u001b[38;5;241;43m/\u001b[39;49m\u001b[43mdivideBy\u001b[49m\n",
      "\u001b[0;31mZeroDivisionError\u001b[0m: division by zero"
     ]
    }
   ],
   "source": [
    "def spam(divideBy):\n",
    "    return 42/divideBy\n",
    "\n",
    "print(spam(2))\n",
    "print(spam(12))\n",
    "print(spam(0))\n",
    "print(spam(1))"
   ]
  },
  {
   "cell_type": "code",
   "execution_count": 2,
   "id": "251481da-7e5c-4ac8-b92b-7c15e0a55eae",
   "metadata": {},
   "outputs": [
    {
     "name": "stdout",
     "output_type": "stream",
     "text": [
      "21.0\n",
      "3.5\n",
      "Error: You cannot divide by zero\n",
      "None\n",
      "42.0\n"
     ]
    }
   ],
   "source": [
    "def spam(divideBy):\n",
    "    try :\n",
    "        return(42/divideBy)\n",
    "    except ZeroDivisionError:\n",
    "        print('Error: You cannot divide by zero')\n",
    "\n",
    "print(spam(2))\n",
    "print(spam(12))\n",
    "print(spam(0))\n",
    "print(spam(1))"
   ]
  },
  {
   "cell_type": "code",
   "execution_count": null,
   "id": "380593e8-d851-4b74-8de5-af036e836500",
   "metadata": {},
   "outputs": [],
   "source": [
    "def spam(divideBy):\n",
    "    try :\n",
    "        return(42/divideBy)\n",
    "    except ZeroDivisionError:\n",
    "        print('Error: You cannot divide by zero')\n",
    "    else:\n",
    "        print('Try block run successfully')\n",
    "    finally:\n",
    "        print('this will run irrespective of try or exceptd successfully')"
   ]
  },
  {
   "cell_type": "code",
   "execution_count": null,
   "id": "59f05879-b997-4d77-91e8-4106d650a2f5",
   "metadata": {},
   "outputs": [],
   "source": [
    "print(spam(2))"
   ]
  },
  {
   "cell_type": "code",
   "execution_count": null,
   "id": "0bde8cbf-7f7c-4616-8d39-09a0ddfd9a86",
   "metadata": {},
   "outputs": [],
   "source": [
    "print(spam(12))"
   ]
  },
  {
   "cell_type": "code",
   "execution_count": null,
   "id": "f971a7ea-d1fe-43fd-b104-dd0ca004bcae",
   "metadata": {},
   "outputs": [],
   "source": [
    "print(spam(0))"
   ]
  },
  {
   "cell_type": "markdown",
   "id": "75a884fe-7d84-4a67-ba23-1eda0919ad46",
   "metadata": {},
   "source": [
    "File Handling"
   ]
  },
  {
   "cell_type": "code",
   "execution_count": 2,
   "id": "99364b06-1385-4233-b570-de2c9ecc2f9c",
   "metadata": {},
   "outputs": [],
   "source": [
    "import os"
   ]
  },
  {
   "cell_type": "code",
   "execution_count": 3,
   "id": "63bf8ed4-64b6-4267-bb71-9b0fc55690f4",
   "metadata": {},
   "outputs": [
    {
     "data": {
      "text/plain": [
       "'/home/jovyan/work/Python'"
      ]
     },
     "execution_count": 3,
     "metadata": {},
     "output_type": "execute_result"
    }
   ],
   "source": [
    "os.getcwd()"
   ]
  },
  {
   "cell_type": "code",
   "execution_count": 4,
   "id": "6e0cada6-4ce9-422f-ba0e-26a7cfbd94c9",
   "metadata": {},
   "outputs": [],
   "source": [
    "os.chdir('/home/jovyan/work/Python/Exception_handling')"
   ]
  },
  {
   "cell_type": "code",
   "execution_count": 5,
   "id": "a302a5be-c397-4274-8a4e-8fd56d204289",
   "metadata": {},
   "outputs": [
    {
     "data": {
      "text/plain": [
       "'/home/jovyan/work/Python/Exception_handling'"
      ]
     },
     "execution_count": 5,
     "metadata": {},
     "output_type": "execute_result"
    }
   ],
   "source": [
    "os.getcwd()"
   ]
  },
  {
   "cell_type": "code",
   "execution_count": 6,
   "id": "2a10fd02-6782-4a69-a409-6778190d5f33",
   "metadata": {},
   "outputs": [],
   "source": [
    "os.mkdir('22ndjune23')"
   ]
  },
  {
   "cell_type": "code",
   "execution_count": 7,
   "id": "0e43ce96-2ddc-4a44-aaed-64a1fbda68a8",
   "metadata": {},
   "outputs": [],
   "source": [
    "try :\n",
    "    f = open('test.txt','w')\n",
    "    f.write('This is a good day to learn data science')\n",
    "    f.close()\n",
    "except OSError:\n",
    "    pass"
   ]
  },
  {
   "cell_type": "code",
   "execution_count": 8,
   "id": "c39c6039-fd92-4396-a49f-c91436aa56cf",
   "metadata": {},
   "outputs": [
    {
     "name": "stdout",
     "output_type": "stream",
     "text": [
      "This is a good day to learn data science\n"
     ]
    }
   ],
   "source": [
    "with open('test.txt','r') as filename:\n",
    "    print(filename.read())"
   ]
  },
  {
   "cell_type": "code",
   "execution_count": 9,
   "id": "b9bbc87c-b8a5-44b3-bf64-ba36bba4df6d",
   "metadata": {},
   "outputs": [
    {
     "ename": "ValueError",
     "evalue": "I/O operation on closed file.",
     "output_type": "error",
     "traceback": [
      "\u001b[0;31m---------------------------------------------------------------------------\u001b[0m",
      "\u001b[0;31mValueError\u001b[0m                                Traceback (most recent call last)",
      "Cell \u001b[0;32mIn[9], line 1\u001b[0m\n\u001b[0;32m----> 1\u001b[0m \u001b[38;5;28mprint\u001b[39m(\u001b[43mfilename\u001b[49m\u001b[38;5;241;43m.\u001b[39;49m\u001b[43mread\u001b[49m\u001b[43m(\u001b[49m\u001b[43m)\u001b[49m)\n",
      "\u001b[0;31mValueError\u001b[0m: I/O operation on closed file."
     ]
    }
   ],
   "source": [
    "print(filename.read())"
   ]
  },
  {
   "cell_type": "code",
   "execution_count": 10,
   "id": "3ff3bd69-4b76-4c7c-a98e-fe4a8422feb0",
   "metadata": {},
   "outputs": [
    {
     "ename": "ValueError",
     "evalue": "I/O operation on closed file.",
     "output_type": "error",
     "traceback": [
      "\u001b[0;31m---------------------------------------------------------------------------\u001b[0m",
      "\u001b[0;31mValueError\u001b[0m                                Traceback (most recent call last)",
      "Cell \u001b[0;32mIn[10], line 1\u001b[0m\n\u001b[0;32m----> 1\u001b[0m \u001b[43mfilename\u001b[49m\u001b[38;5;241;43m.\u001b[39;49m\u001b[43mseek\u001b[49m\u001b[43m(\u001b[49m\u001b[38;5;241;43m0\u001b[39;49m\u001b[43m)\u001b[49m\n",
      "\u001b[0;31mValueError\u001b[0m: I/O operation on closed file."
     ]
    }
   ],
   "source": [
    "filename.seek(0)"
   ]
  },
  {
   "cell_type": "code",
   "execution_count": 11,
   "id": "d46b03ca-1c14-4a1c-b21f-461b40e22c31",
   "metadata": {},
   "outputs": [
    {
     "data": {
      "text/plain": [
       "'This is a good day to learn data science'"
      ]
     },
     "execution_count": 11,
     "metadata": {},
     "output_type": "execute_result"
    }
   ],
   "source": [
    "f = open('test.txt','r')\n",
    "f.read()"
   ]
  },
  {
   "cell_type": "code",
   "execution_count": 12,
   "id": "33d3005e-7343-4f32-ba77-fd845e471ee4",
   "metadata": {},
   "outputs": [
    {
     "data": {
      "text/plain": [
       "0"
      ]
     },
     "execution_count": 12,
     "metadata": {},
     "output_type": "execute_result"
    }
   ],
   "source": [
    "f.seek(0)"
   ]
  },
  {
   "cell_type": "code",
   "execution_count": 13,
   "id": "686aa9b7-d103-4c14-a462-bc2a59b35949",
   "metadata": {},
   "outputs": [
    {
     "data": {
      "text/plain": [
       "'This is a good day to learn data science'"
      ]
     },
     "execution_count": 13,
     "metadata": {},
     "output_type": "execute_result"
    }
   ],
   "source": [
    "f.read()"
   ]
  },
  {
   "cell_type": "code",
   "execution_count": 14,
   "id": "12dcf59c-c667-4f88-bc70-b4f63517a591",
   "metadata": {},
   "outputs": [
    {
     "data": {
      "text/plain": [
       "''"
      ]
     },
     "execution_count": 14,
     "metadata": {},
     "output_type": "execute_result"
    }
   ],
   "source": [
    "f.read()"
   ]
  },
  {
   "cell_type": "code",
   "execution_count": 15,
   "id": "8335ce35-1701-48d4-9a2a-7d0001616112",
   "metadata": {},
   "outputs": [
    {
     "data": {
      "text/plain": [
       "5"
      ]
     },
     "execution_count": 15,
     "metadata": {},
     "output_type": "execute_result"
    }
   ],
   "source": [
    "f.seek(5)"
   ]
  },
  {
   "cell_type": "code",
   "execution_count": 16,
   "id": "75f44b5f-d041-46a7-9a37-78e46e6ce35d",
   "metadata": {},
   "outputs": [
    {
     "data": {
      "text/plain": [
       "'is a good day to learn data science'"
      ]
     },
     "execution_count": 16,
     "metadata": {},
     "output_type": "execute_result"
    }
   ],
   "source": [
    "f.read()"
   ]
  },
  {
   "cell_type": "code",
   "execution_count": 17,
   "id": "779954ee-9104-4bc7-bd1e-c3e83daeccbe",
   "metadata": {},
   "outputs": [],
   "source": [
    "f.close()"
   ]
  },
  {
   "cell_type": "code",
   "execution_count": 18,
   "id": "8ab9083d-d8b9-4c44-86bc-18d32eda0b1f",
   "metadata": {},
   "outputs": [],
   "source": [
    "f = open('test.txt','a')\n",
    "f.write('This is another sentence\\n')\n",
    "f.close()"
   ]
  },
  {
   "cell_type": "code",
   "execution_count": 19,
   "id": "98a60782-0eaa-4819-bc33-97c2ca88f62a",
   "metadata": {},
   "outputs": [
    {
     "data": {
      "text/plain": [
       "'This is a good day to learn data scienceThis is another sentence\\n'"
      ]
     },
     "execution_count": 19,
     "metadata": {},
     "output_type": "execute_result"
    }
   ],
   "source": [
    "f = open('test.txt','r')\n",
    "f.read()"
   ]
  },
  {
   "cell_type": "code",
   "execution_count": 20,
   "id": "7d685c67-6dd6-44da-92a4-8b62fb9bc3ab",
   "metadata": {},
   "outputs": [],
   "source": [
    "# create a dummy dataset\n",
    "import csv\n",
    "\n",
    "data = [\n",
    "    ['company_name','revenue','expences'],\n",
    "    ['Apple','1000000000','1000000000000'],\n",
    "    ['Google','2000000000','300000000']\n",
    "]\n",
    "\n",
    "f = open('findata.csv','w',newline= \"\")\n",
    "writer = csv.writer(f)\n",
    "writer.writerows(data)\n",
    "f.close()"
   ]
  },
  {
   "cell_type": "code",
   "execution_count": 21,
   "id": "2416a689-a530-4bd2-bd3d-f3975d94c4db",
   "metadata": {},
   "outputs": [],
   "source": [
    "new_data = ['Microsoft','500000000','700000000']"
   ]
  },
  {
   "cell_type": "code",
   "execution_count": 22,
   "id": "11723373-745f-46e7-a406-36b7a2f5cb92",
   "metadata": {},
   "outputs": [],
   "source": [
    "f = open('findata.csv','a',newline = \"\")\n",
    "writer = csv.writer(f)\n",
    "writer.writerow(new_data)\n",
    "f.close()"
   ]
  },
  {
   "cell_type": "code",
   "execution_count": 23,
   "id": "50771f51-1b2c-41c9-a984-a80cb571b183",
   "metadata": {},
   "outputs": [],
   "source": [
    "new_data1 = ['Twitter','4000000000','80000000']"
   ]
  },
  {
   "cell_type": "code",
   "execution_count": 24,
   "id": "a26ff3f1-ace5-41e8-b53e-9703d8e8f41c",
   "metadata": {},
   "outputs": [],
   "source": [
    "f = open('findata.csv','a',newline = \"\")\n",
    "writer = csv.writer(f)\n",
    "writer.writerow(new_data1)\n",
    "f.close()"
   ]
  },
  {
   "cell_type": "code",
   "execution_count": 25,
   "id": "8137162e-2bcf-423b-bf21-c5133820708f",
   "metadata": {},
   "outputs": [
    {
     "data": {
      "text/plain": [
       "'document/test/project'"
      ]
     },
     "execution_count": 25,
     "metadata": {},
     "output_type": "execute_result"
    }
   ],
   "source": [
    "os.path.join('document','test','project')"
   ]
  },
  {
   "cell_type": "code",
   "execution_count": 26,
   "id": "445d135c-e375-4b88-ad4f-9f5df736a6d4",
   "metadata": {},
   "outputs": [
    {
     "data": {
      "text/plain": [
       "'/home/jovyan/work/Python/Exception_handling'"
      ]
     },
     "execution_count": 26,
     "metadata": {},
     "output_type": "execute_result"
    }
   ],
   "source": [
    "os.getcwd()"
   ]
  },
  {
   "cell_type": "code",
   "execution_count": 27,
   "id": "21b558e9-e4ef-4934-b53c-a0c0d31e971a",
   "metadata": {},
   "outputs": [],
   "source": [
    "os.rmdir('22ndjune23')"
   ]
  },
  {
   "cell_type": "code",
   "execution_count": 28,
   "id": "f704e1f2-14e3-405a-9f54-6e13320df8ba",
   "metadata": {},
   "outputs": [
    {
     "name": "stdout",
     "output_type": "stream",
     "text": [
      "File deleted\n"
     ]
    }
   ],
   "source": [
    "try:\n",
    "    os.remove('/home/jovyan/work/Python/Exception_handling/test.txt')\n",
    "except Exception as e:\n",
    "    print(e)\n",
    "else:\n",
    "    print('File deleted')"
   ]
  },
  {
   "cell_type": "code",
   "execution_count": 29,
   "id": "d7b75cbf-628d-4e08-b10b-672b43bf4aca",
   "metadata": {},
   "outputs": [],
   "source": [
    "def divide(x):\n",
    "    try:\n",
    "        result = 42/x\n",
    "    except ZeroDivisionError:\n",
    "        print(\"sorry ! You are dividing by zero\")\n",
    "    else:\n",
    "        print(\"Yeah ! Your answer is :\",result)\n",
    "    finally:\n",
    "        print(\"This is always executed\")"
   ]
  },
  {
   "cell_type": "code",
   "execution_count": 30,
   "id": "02972abd-0746-4d2c-8c19-57ee13fffaba",
   "metadata": {},
   "outputs": [
    {
     "name": "stdout",
     "output_type": "stream",
     "text": [
      "Yeah ! Your answer is : 14.0\n",
      "This is always executed\n",
      "Yeah ! Your answer is : 1.3125\n",
      "This is always executed\n"
     ]
    }
   ],
   "source": [
    "divide(3)\n",
    "divide(32)"
   ]
  },
  {
   "cell_type": "code",
   "execution_count": 32,
   "id": "76b9722a-48af-45f5-aa5e-060ff557f5ae",
   "metadata": {},
   "outputs": [
    {
     "data": {
      "text/plain": [
       "'/home/jovyan/work/Python/Exception_handling'"
      ]
     },
     "execution_count": 32,
     "metadata": {},
     "output_type": "execute_result"
    }
   ],
   "source": [
    "os.getcwd()"
   ]
  },
  {
   "cell_type": "code",
   "execution_count": 52,
   "id": "2deca5d1-a391-46db-b29f-828298bba31c",
   "metadata": {},
   "outputs": [
    {
     "name": "stdout",
     "output_type": "stream",
     "text": [
      "Created destination folder : /home/jovyan/work/Python/Exception_handling/assignment2\n",
      "Created train folder : /home/jovyan/work/Python/Exception_handling/assignment2/train\n",
      "Created validation folder : /home/jovyan/work/Python/Exception_handling/assignment2/validation\n",
      "Created test folder : /home/jovyan/work/Python/Exception_handling/assignment2/test\n",
      "got the list of cat and dog image files from the parent folder\n",
      "Copied and renamed file 'cat.12.jpg' to train/cat/cat_1.jpg\n",
      "Copied and renamed file 'cat.16.jpg' to train/cat/cat_2.jpg\n",
      "Copied and renamed file 'cat.17.jpg' to train/cat/cat_3.jpg\n",
      "Copied and renamed file 'cat.5.jpg' to train/cat/cat_4.jpg\n",
      "Copied and renamed file 'cat.10.jpg' to train/cat/cat_5.jpg\n",
      "Copied and renamed file 'cat.7.jpg' to train/cat/cat_6.jpg\n",
      "Copied and renamed file 'cat.14.jpg' to train/cat/cat_7.jpg\n",
      "Copied and renamed file 'cat.8.jpg' to train/cat/cat_8.jpg\n",
      "Copied and renamed file 'cat.13.jpg' to train/cat/cat_9.jpg\n",
      "Copied and renamed file 'cat.18.jpg' to train/cat/cat_10.jpg\n",
      "Copied and renamed file 'dog.17.jpg' to train/dog/dog_1.jpg\n",
      "Copied and renamed file 'dog.2.jpg' to train/dog/dog_2.jpg\n",
      "Copied and renamed file 'dog.6.jpg' to train/dog/dog_3.jpg\n",
      "Copied and renamed file 'dog.19.jpg' to train/dog/dog_4.jpg\n",
      "Copied and renamed file 'dog.7.jpg' to train/dog/dog_5.jpg\n",
      "Copied and renamed file 'dog.13.jpg' to train/dog/dog_6.jpg\n",
      "Copied and renamed file 'dog.12.jpg' to train/dog/dog_7.jpg\n",
      "Copied and renamed file 'dog.8.jpg' to train/dog/dog_8.jpg\n",
      "Copied and renamed file 'dog.14.jpg' to train/dog/dog_9.jpg\n",
      "Copied and renamed file 'dog.9.jpg' to train/dog/dog_10.jpg\n",
      "Copied and renamed file 'cat.2.jpg' to validation/cat/cat_1.jpg\n",
      "Copied and renamed file 'cat.6.jpg' to validation/cat/cat_2.jpg\n",
      "Copied and renamed file 'cat.9.jpg' to validation/cat/cat_3.jpg\n",
      "Copied and renamed file 'cat.4.jpg' to validation/cat/cat_4.jpg\n",
      "Copied and renamed file 'cat.15.jpg' to validation/cat/cat_5.jpg\n",
      "Copied and renamed file 'dog.3.jpg' to validation/dog/dog_1.jpg\n",
      "Copied and renamed file 'dog.10.jpg' to validation/dog/dog_2.jpg\n",
      "Copied and renamed file 'dog.20.jpg' to validation/dog/dog_3.jpg\n",
      "Copied and renamed file 'dog.4.jpg' to validation/dog/dog_4.jpg\n",
      "Copied and renamed file 'dog.11.jpg' to validation/dog/dog_5.jpg\n",
      "Copied and renamed file 'cat.3.jpg' to test/cat/cat_1.jpg\n",
      "Copied and renamed file 'cat.20.jpg' to test/cat/cat_2.jpg\n",
      "Copied and renamed file 'cat.19.jpg' to test/cat/cat_3.jpg\n",
      "Copied and renamed file 'cat.11.jpg' to test/cat/cat_4.jpg\n",
      "Copied and renamed file 'cat.1.jpg' to test/cat/cat_5.jpg\n",
      "Copied and renamed file 'dog.5.jpg' to test/dog/dog_1.jpg\n",
      "Copied and renamed file 'dog.18.jpg' to test/dog/dog_2.jpg\n",
      "Copied and renamed file 'dog.15.jpg' to test/dog/dog_3.jpg\n",
      "Copied and renamed file 'dog.16.jpg' to test/dog/dog_4.jpg\n",
      "Copied and renamed file 'dog.1.jpg' to test/dog/dog_5.jpg\n",
      "Image copying and renaming completed successfully !!\n"
     ]
    }
   ],
   "source": [
    "import os\n",
    "import shutil\n",
    "\n",
    "#parent folder\n",
    "\n",
    "parent_folder = \"/home/jovyan/work/Python/Exception_handling/images\"\n",
    "\n",
    "#destination folder\n",
    "\n",
    "destination_folder = \"/home/jovyan/work/Python/Exception_handling/assignment2\"\n",
    "\n",
    "try:\n",
    "    #create destination folder\n",
    "    if not os.path.exists(destination_folder):\n",
    "        #create directory\n",
    "        os.mkdir(destination_folder)\n",
    "        print(f\"Created destination folder : {destination_folder}\")\n",
    "        \n",
    "    #create sub folders\n",
    "    train_folder = os.path.join(destination_folder,\"train\")\n",
    "    os.mkdir(train_folder)\n",
    "    os.mkdir(os.path.join(train_folder, \"cat\"))\n",
    "    os.mkdir(os.path.join(train_folder, \"dog\"))\n",
    "    print(f\"Created train folder : {train_folder}\")\n",
    "    \n",
    "    validation_folder = os.path.join(destination_folder,\"validation\")\n",
    "    os.mkdir(validation_folder)\n",
    "    os.mkdir(os.path.join(validation_folder,\"cat\"))\n",
    "    os.mkdir(os.path.join(validation_folder,\"dog\"))\n",
    "    print(f\"Created validation folder : {validation_folder}\")\n",
    "    \n",
    "    test_folder = os.path.join(destination_folder,\"test\")\n",
    "    os.mkdir(test_folder)\n",
    "    os.mkdir(os.path.join(test_folder,\"cat\"))\n",
    "    os.mkdir(os.path.join(test_folder,\"dog\"))\n",
    "    print(f\"Created test folder : {test_folder}\")\n",
    "    \n",
    "    #get the list of cat and dog image files from the parent folder\n",
    "    cat_files = [file for file in os.listdir(os.path.join(parent_folder,\"cats\")) if not file.startswith(\".\")]\n",
    "    dog_files = [file for file in os.listdir(os.path.join(parent_folder,\"dogs\")) if not file.startswith(\".\")]\n",
    "    print(\"got the list of cat and dog image files from the parent folder\")\n",
    "    \n",
    "    #copy and rename the cat images to the train folder\n",
    "    for idx,file in enumerate(cat_files[:10], start=1):\n",
    "        src_path = os.path.join(parent_folder,\"cats\",file)\n",
    "        dst_path = os.path.join(train_folder,\"cat\",f\"cat_{idx}.jpg\")\n",
    "        shutil.copy(src_path,dst_path)\n",
    "        print(f\"Copied and renamed file '{file}' to train/cat/cat_{idx}.jpg\")\n",
    "        \n",
    "    #copy and rename the dog images to the train folder\n",
    "    for idx,file in enumerate(dog_files[:10],start=1):\n",
    "        src_path = os.path.join(parent_folder,\"dogs\",file)\n",
    "        dst_path = os.path.join(train_folder,\"dog\",f\"dog_{idx}.jpg\")\n",
    "        shutil.copy(src_path,dst_path)\n",
    "        print(f\"Copied and renamed file '{file}' to train/dog/dog_{idx}.jpg\")\n",
    "        \n",
    "    #copy and rename the cat images to the validation folder\n",
    "    for idx,file in enumerate(cat_files[10:15], start=1):\n",
    "        src_path = os.path.join(parent_folder,\"cats\",file)\n",
    "        dst_path = os.path.join(validation_folder,\"cat\",f\"cat_{idx}.jpg\")\n",
    "        shutil.copy(src_path,dst_path)\n",
    "        print(f\"Copied and renamed file '{file}' to validation/cat/cat_{idx}.jpg\")\n",
    "        \n",
    "    #copy and rename the dog images to the validation folder\n",
    "    for idx,file in enumerate(dog_files[10:15], start=1):\n",
    "        src_path = os.path.join(parent_folder,\"dogs\",file)\n",
    "        dst_path = os.path.join(validation_folder, \"dog\", f\"dog_{idx}.jpg\")\n",
    "        shutil.copy(src_path,dst_path)\n",
    "        print(f\"Copied and renamed file '{file}' to validation/dog/dog_{idx}.jpg\")\n",
    "        \n",
    "    #copy and rename the cat images to the test folder\n",
    "    for idx,file in enumerate(cat_files[15:20], start=1):\n",
    "        src_path = os.path.join(parent_folder,\"cats\",file)\n",
    "        dst_path = os.path.join(test_folder,\"cat\",f\"cat_{idx}.jpg\")\n",
    "        shutil.copy(src_path,dst_path)\n",
    "        print(f\"Copied and renamed file '{file}' to test/cat/cat_{idx}.jpg\")\n",
    "        \n",
    "    #copy and rename the cat images to the test folder\n",
    "    for idx,file in enumerate(dog_files[15:20], start=1):\n",
    "        src_path = os.path.join(parent_folder,\"dogs\",file)\n",
    "        dst_path = os.path.join(test_folder,\"dog\",f\"dog_{idx}.jpg\")\n",
    "        shutil.copy(src_path,dst_path)\n",
    "        print(f\"Copied and renamed file '{file}' to test/dog/dog_{idx}.jpg\")\n",
    "        \n",
    "    print(\"Image copying and renaming completed successfully !!\")\n",
    "    \n",
    "except OSError as e:\n",
    "    print(f\"Error occured during folder creation or image copying : {e}\")"
   ]
  },
  {
   "cell_type": "code",
   "execution_count": null,
   "id": "33db936d-73be-4bfa-a9da-113d107c070f",
   "metadata": {},
   "outputs": [],
   "source": []
  }
 ],
 "metadata": {
  "kernelspec": {
   "display_name": "Python 3 (ipykernel)",
   "language": "python",
   "name": "python3"
  },
  "language_info": {
   "codemirror_mode": {
    "name": "ipython",
    "version": 3
   },
   "file_extension": ".py",
   "mimetype": "text/x-python",
   "name": "python",
   "nbconvert_exporter": "python",
   "pygments_lexer": "ipython3",
   "version": "3.10.8"
  }
 },
 "nbformat": 4,
 "nbformat_minor": 5
}
