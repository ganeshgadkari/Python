{
 "cells": [
  {
   "cell_type": "code",
   "execution_count": 122,
   "id": "44fff38a-dacc-4fcf-8090-f726533e994a",
   "metadata": {},
   "outputs": [
    {
     "name": "stdout",
     "output_type": "stream",
     "text": [
      "0\n",
      "1\n",
      "2\n",
      "3\n",
      "4\n"
     ]
    }
   ],
   "source": [
    "for i in range(5):\n",
    "    print(i)"
   ]
  },
  {
   "cell_type": "code",
   "execution_count": 123,
   "id": "746c6ae6-e069-481e-9627-58a22caed8c3",
   "metadata": {},
   "outputs": [],
   "source": [
    "def add():\n",
    "    x,y=40,50\n",
    "    return x+y"
   ]
  },
  {
   "cell_type": "code",
   "execution_count": 124,
   "id": "89e1f347-f7e2-4970-9420-f269d122ea78",
   "metadata": {},
   "outputs": [
    {
     "name": "stdout",
     "output_type": "stream",
     "text": [
      "90\n"
     ]
    }
   ],
   "source": [
    "print(add())"
   ]
  },
  {
   "cell_type": "code",
   "execution_count": 125,
   "id": "4fdf3867-fb98-4a4b-aa53-9c45b9c10ef2",
   "metadata": {},
   "outputs": [],
   "source": [
    "add = lambda x,y : x+y"
   ]
  },
  {
   "cell_type": "code",
   "execution_count": 126,
   "id": "16c51ee0-5bf9-47cb-af75-b87fd3d29270",
   "metadata": {},
   "outputs": [
    {
     "data": {
      "text/plain": [
       "6"
      ]
     },
     "execution_count": 126,
     "metadata": {},
     "output_type": "execute_result"
    }
   ],
   "source": [
    "add(2,4)"
   ]
  },
  {
   "cell_type": "code",
   "execution_count": 127,
   "id": "7efdafb1-cdd7-46da-8876-c1cd2afede0d",
   "metadata": {},
   "outputs": [],
   "source": [
    "l = [1,2,3,4,5,6,7,8]"
   ]
  },
  {
   "cell_type": "code",
   "execution_count": 128,
   "id": "f02b217d-37a4-4399-89ec-9f604c511966",
   "metadata": {},
   "outputs": [
    {
     "name": "stdout",
     "output_type": "stream",
     "text": [
      "1\n",
      "4\n",
      "9\n",
      "16\n",
      "25\n",
      "36\n",
      "49\n",
      "64\n"
     ]
    }
   ],
   "source": [
    "for i in l:\n",
    "    print(i**2)"
   ]
  },
  {
   "cell_type": "markdown",
   "id": "b4914d25-13c2-4618-8168-9d47ee3c1dc2",
   "metadata": {},
   "source": [
    "Generating a sequence of numbers"
   ]
  },
  {
   "cell_type": "code",
   "execution_count": 129,
   "id": "0fcab90f-98e4-40de-a1ed-2809443c803d",
   "metadata": {},
   "outputs": [],
   "source": [
    "def number_seq(n):\n",
    "    for i in range(n):\n",
    "        yield i"
   ]
  },
  {
   "cell_type": "code",
   "execution_count": 130,
   "id": "02ad167a-b47a-4ffa-800a-e4a17877ae72",
   "metadata": {},
   "outputs": [
    {
     "data": {
      "text/plain": [
       "<generator object number_seq at 0x7f3d280d3450>"
      ]
     },
     "execution_count": 130,
     "metadata": {},
     "output_type": "execute_result"
    }
   ],
   "source": [
    "number_seq(5)"
   ]
  },
  {
   "cell_type": "code",
   "execution_count": 131,
   "id": "7578b8df-b205-4360-a884-95aa61d259b2",
   "metadata": {},
   "outputs": [
    {
     "ename": "TypeError",
     "evalue": "'list' object is not callable",
     "output_type": "error",
     "traceback": [
      "\u001b[0;31m---------------------------------------------------------------------------\u001b[0m",
      "\u001b[0;31mTypeError\u001b[0m                                 Traceback (most recent call last)",
      "Cell \u001b[0;32mIn[131], line 3\u001b[0m\n\u001b[1;32m      1\u001b[0m seq_gen \u001b[38;5;241m=\u001b[39m number_seq(\u001b[38;5;241m5\u001b[39m)\n\u001b[0;32m----> 3\u001b[0m \u001b[38;5;28mprint\u001b[39m(\u001b[38;5;28;43mlist\u001b[39;49m\u001b[43m(\u001b[49m\u001b[43mseq_gen\u001b[49m\u001b[43m)\u001b[49m)\n",
      "\u001b[0;31mTypeError\u001b[0m: 'list' object is not callable"
     ]
    }
   ],
   "source": [
    "seq_gen = number_seq(5)\n",
    "\n",
    "print(list(seq_gen))"
   ]
  },
  {
   "cell_type": "markdown",
   "id": "87c6e19e-0ece-4691-8302-1ae142a57390",
   "metadata": {},
   "source": [
    "write a function to generate random numbers"
   ]
  },
  {
   "cell_type": "code",
   "execution_count": 132,
   "id": "ee1326d8-f81c-40ff-a28f-14ff36a46321",
   "metadata": {},
   "outputs": [],
   "source": [
    "import random"
   ]
  },
  {
   "cell_type": "code",
   "execution_count": 133,
   "id": "5be05238-2486-4870-b106-bfa59044e452",
   "metadata": {},
   "outputs": [],
   "source": [
    "def random_num_gen():\n",
    "    while True :\n",
    "        yield random.randint(1,100)"
   ]
  },
  {
   "cell_type": "code",
   "execution_count": 134,
   "id": "00597b07-0344-4e93-ad2e-4ee44aca0e3c",
   "metadata": {},
   "outputs": [
    {
     "data": {
      "text/plain": [
       "[14, 34, 19, 20, 27]"
      ]
     },
     "execution_count": 134,
     "metadata": {},
     "output_type": "execute_result"
    }
   ],
   "source": [
    "random_gen = random_num_gen()\n",
    "[next(random_gen) for _ in range(5)]"
   ]
  },
  {
   "cell_type": "code",
   "execution_count": 135,
   "id": "f0d7e1b8-e90d-4271-8985-afc01519b576",
   "metadata": {},
   "outputs": [],
   "source": [
    "x = 'elephant'"
   ]
  },
  {
   "cell_type": "code",
   "execution_count": 136,
   "id": "2b34953c-c1fc-4029-aba7-bc2e1cb79af8",
   "metadata": {},
   "outputs": [
    {
     "name": "stdout",
     "output_type": "stream",
     "text": [
      "e\n",
      "l\n",
      "e\n",
      "p\n",
      "h\n",
      "a\n",
      "n\n",
      "t\n"
     ]
    }
   ],
   "source": [
    "for i in x:\n",
    "    print(i)"
   ]
  },
  {
   "cell_type": "code",
   "execution_count": 137,
   "id": "ee5e57b7-2848-4a82-b922-9288e820a8db",
   "metadata": {},
   "outputs": [],
   "source": [
    "x= iter(x)"
   ]
  },
  {
   "cell_type": "code",
   "execution_count": 138,
   "id": "2926b628-407d-40d0-b006-a00d314a8f88",
   "metadata": {},
   "outputs": [
    {
     "data": {
      "text/plain": [
       "'e'"
      ]
     },
     "execution_count": 138,
     "metadata": {},
     "output_type": "execute_result"
    }
   ],
   "source": [
    "next(x)"
   ]
  },
  {
   "cell_type": "markdown",
   "id": "f1200051-8709-4f2d-8229-c36f0be91082",
   "metadata": {},
   "source": [
    "Generating Prime numbers"
   ]
  },
  {
   "cell_type": "code",
   "execution_count": 139,
   "id": "713993fe-4a77-4856-b125-ef99e04e5d8c",
   "metadata": {},
   "outputs": [],
   "source": [
    "def prime_num_gen():\n",
    "    num = 2\n",
    "    while True:\n",
    "        if is_prime(num):\n",
    "            yield num\n",
    "        num = num+1\n",
    "        \n",
    "def is_prime(n):\n",
    "    if n<2:\n",
    "        return False\n",
    "    for i in range(2,int(n**0.5)+1):\n",
    "        if n%i ==0:\n",
    "            return False\n",
    "    return True"
   ]
  },
  {
   "cell_type": "code",
   "execution_count": 140,
   "id": "a447a916-6987-45ca-a1f2-ccb4cbef648a",
   "metadata": {},
   "outputs": [
    {
     "data": {
      "text/plain": [
       "[2, 3, 5, 7, 11, 13, 17, 19, 23, 29]"
      ]
     },
     "execution_count": 140,
     "metadata": {},
     "output_type": "execute_result"
    }
   ],
   "source": [
    "prime_gen = prime_num_gen()\n",
    "[next(prime_gen) for _ in range(10)]"
   ]
  },
  {
   "cell_type": "code",
   "execution_count": 141,
   "id": "97ece6dc-d185-46b5-b02a-423c76d123f0",
   "metadata": {},
   "outputs": [],
   "source": [
    "def prime_num_gen():\n",
    "    num =2\n",
    "    while True :\n",
    "        if is_prime(num):\n",
    "            yield num\n",
    "        num = num +1\n",
    "        \n",
    "def is_prime(n):\n",
    "    if n<2:\n",
    "        return False\n",
    "    for i in range(2,int(n**0.5)+1):\n",
    "        if n % i == 0 :\n",
    "            return False\n",
    "    return True\n"
   ]
  },
  {
   "cell_type": "code",
   "execution_count": 142,
   "id": "f048ee3f-9966-4558-8611-741be08f108e",
   "metadata": {},
   "outputs": [
    {
     "data": {
      "text/plain": [
       "[2, 3, 5, 7, 11, 13, 17, 19, 23, 29]"
      ]
     },
     "execution_count": 142,
     "metadata": {},
     "output_type": "execute_result"
    }
   ],
   "source": [
    "prime_num = prime_num_gen()\n",
    "\n",
    "[next(prime_num) for _ in range(10)]"
   ]
  },
  {
   "cell_type": "markdown",
   "id": "3bf56f97-eba5-4570-854a-0159bc23921b",
   "metadata": {},
   "source": [
    "LAMBDA Functions\n",
    "\n",
    "Anonymous functions"
   ]
  },
  {
   "cell_type": "code",
   "execution_count": 143,
   "id": "e61ac1c8-9aa6-4147-b02b-39888377740a",
   "metadata": {},
   "outputs": [],
   "source": [
    "add = lambda x,y : x+y"
   ]
  },
  {
   "cell_type": "code",
   "execution_count": 144,
   "id": "d398a9a4-f99f-449a-abdd-742de9f9066c",
   "metadata": {},
   "outputs": [
    {
     "data": {
      "text/plain": [
       "90"
      ]
     },
     "execution_count": 144,
     "metadata": {},
     "output_type": "execute_result"
    }
   ],
   "source": [
    "add(20,70)"
   ]
  },
  {
   "cell_type": "code",
   "execution_count": 145,
   "id": "aca746f7-8036-4e86-a6a0-b9297c31ee97",
   "metadata": {},
   "outputs": [],
   "source": [
    "y= lambda x : x**2"
   ]
  },
  {
   "cell_type": "code",
   "execution_count": 146,
   "id": "f45486a5-5f49-4ba8-beac-4a9db8154979",
   "metadata": {},
   "outputs": [
    {
     "data": {
      "text/plain": [
       "36"
      ]
     },
     "execution_count": 146,
     "metadata": {},
     "output_type": "execute_result"
    }
   ],
   "source": [
    "y(6)"
   ]
  },
  {
   "cell_type": "code",
   "execution_count": 147,
   "id": "435b68b9-9cf9-49ff-ad39-1a5363a4a65d",
   "metadata": {},
   "outputs": [],
   "source": [
    "is_even = lambda x : x%2==0"
   ]
  },
  {
   "cell_type": "code",
   "execution_count": 148,
   "id": "7b77f526-e112-4f43-8cc3-c530bdb21f5d",
   "metadata": {},
   "outputs": [
    {
     "data": {
      "text/plain": [
       "False"
      ]
     },
     "execution_count": 148,
     "metadata": {},
     "output_type": "execute_result"
    }
   ],
   "source": [
    "is_even(7)"
   ]
  },
  {
   "cell_type": "code",
   "execution_count": 149,
   "id": "0743bb57-f95e-43bc-908a-74fbff6f9d36",
   "metadata": {},
   "outputs": [],
   "source": [
    "upper = lambda x :x.upper()"
   ]
  },
  {
   "cell_type": "code",
   "execution_count": 150,
   "id": "e459994a-5dfa-4a8d-b5c2-fb6817df2b29",
   "metadata": {},
   "outputs": [
    {
     "data": {
      "text/plain": [
       "'GANESH'"
      ]
     },
     "execution_count": 150,
     "metadata": {},
     "output_type": "execute_result"
    }
   ],
   "source": [
    "upper(\"ganesh\")"
   ]
  },
  {
   "cell_type": "code",
   "execution_count": 151,
   "id": "7ead41c6-9a15-424b-8488-83b8801d7144",
   "metadata": {},
   "outputs": [],
   "source": [
    "list = [1,2,3,4,5]\n",
    "\n",
    "avg = lambda x : sum(x)/len(x)"
   ]
  },
  {
   "cell_type": "code",
   "execution_count": 152,
   "id": "fcd64d6f-4e64-4e9c-9150-61f532a011fe",
   "metadata": {},
   "outputs": [
    {
     "data": {
      "text/plain": [
       "3.0"
      ]
     },
     "execution_count": 152,
     "metadata": {},
     "output_type": "execute_result"
    }
   ],
   "source": [
    "avg(list)"
   ]
  },
  {
   "cell_type": "code",
   "execution_count": 153,
   "id": "1dcd30e5-c5ad-4d89-a6c7-967d2e545e17",
   "metadata": {},
   "outputs": [
    {
     "data": {
      "text/plain": [
       "3.0"
      ]
     },
     "execution_count": 153,
     "metadata": {},
     "output_type": "execute_result"
    }
   ],
   "source": [
    "15/5"
   ]
  }
 ],
 "metadata": {
  "kernelspec": {
   "display_name": "Python 3 (ipykernel)",
   "language": "python",
   "name": "python3"
  },
  "language_info": {
   "codemirror_mode": {
    "name": "ipython",
    "version": 3
   },
   "file_extension": ".py",
   "mimetype": "text/x-python",
   "name": "python",
   "nbconvert_exporter": "python",
   "pygments_lexer": "ipython3",
   "version": "3.10.8"
  }
 },
 "nbformat": 4,
 "nbformat_minor": 5
}
