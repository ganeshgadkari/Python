{
 "cells": [
  {
   "cell_type": "code",
   "execution_count": 23,
   "id": "fb94068f-b56f-4eb8-84d3-4ec8ce05aaac",
   "metadata": {},
   "outputs": [],
   "source": [
    "#Numpy - Array Manipulation."
   ]
  },
  {
   "cell_type": "code",
   "execution_count": 24,
   "id": "31125440-f004-4aff-8148-ce93550211ac",
   "metadata": {},
   "outputs": [],
   "source": [
    "import numpy as np"
   ]
  },
  {
   "cell_type": "code",
   "execution_count": 25,
   "id": "dd8b19bc-9efa-41f3-899e-907f07974b62",
   "metadata": {},
   "outputs": [],
   "source": [
    "arr = np.random.randint(1,10 , (3,4))"
   ]
  },
  {
   "cell_type": "code",
   "execution_count": 26,
   "id": "4b832cb6-4eda-40f0-878d-d8bd3e3d897e",
   "metadata": {},
   "outputs": [
    {
     "data": {
      "text/plain": [
       "array([[4, 2, 7, 3],\n",
       "       [4, 8, 9, 8],\n",
       "       [5, 5, 9, 7]])"
      ]
     },
     "execution_count": 26,
     "metadata": {},
     "output_type": "execute_result"
    }
   ],
   "source": [
    "arr"
   ]
  },
  {
   "cell_type": "code",
   "execution_count": 27,
   "id": "d8778cd9-f235-429f-af30-d1627bf4a74b",
   "metadata": {},
   "outputs": [
    {
     "data": {
      "text/plain": [
       "array([[4, 2],\n",
       "       [7, 3],\n",
       "       [4, 8],\n",
       "       [9, 8],\n",
       "       [5, 5],\n",
       "       [9, 7]])"
      ]
     },
     "execution_count": 27,
     "metadata": {},
     "output_type": "execute_result"
    }
   ],
   "source": [
    "arr.reshape(6,2)"
   ]
  },
  {
   "cell_type": "code",
   "execution_count": 28,
   "id": "09739662-d896-4bda-84df-4bde332b4d75",
   "metadata": {},
   "outputs": [
    {
     "data": {
      "text/plain": [
       "array([[4, 2, 7, 3, 4, 8],\n",
       "       [9, 8, 5, 5, 9, 7]])"
      ]
     },
     "execution_count": 28,
     "metadata": {},
     "output_type": "execute_result"
    }
   ],
   "source": [
    "arr.reshape(2,6)"
   ]
  },
  {
   "cell_type": "code",
   "execution_count": 29,
   "id": "5dc43352-d8ae-4bf3-aadf-b9eb67e0c419",
   "metadata": {},
   "outputs": [
    {
     "data": {
      "text/plain": [
       "array([[4, 4, 5],\n",
       "       [2, 8, 5],\n",
       "       [7, 9, 9],\n",
       "       [3, 8, 7]])"
      ]
     },
     "execution_count": 29,
     "metadata": {},
     "output_type": "execute_result"
    }
   ],
   "source": [
    "arr.T"
   ]
  },
  {
   "cell_type": "code",
   "execution_count": 30,
   "id": "31c46de3-79c4-4710-a51a-f82d1efb610b",
   "metadata": {},
   "outputs": [
    {
     "data": {
      "text/plain": [
       "array([4, 2, 7, 3, 4, 8, 9, 8, 5, 5, 9, 7])"
      ]
     },
     "execution_count": 30,
     "metadata": {},
     "output_type": "execute_result"
    }
   ],
   "source": [
    "arr.flatten()"
   ]
  },
  {
   "cell_type": "code",
   "execution_count": 31,
   "id": "3b0f76f7-4eea-43fb-80a3-a082700a369f",
   "metadata": {},
   "outputs": [],
   "source": [
    "arr1 = np.array([1,2,3,4,5])"
   ]
  },
  {
   "cell_type": "code",
   "execution_count": 32,
   "id": "484b6aa8-9446-41dc-893c-74f2365bf96a",
   "metadata": {},
   "outputs": [
    {
     "data": {
      "text/plain": [
       "1"
      ]
     },
     "execution_count": 32,
     "metadata": {},
     "output_type": "execute_result"
    }
   ],
   "source": [
    "arr1.ndim"
   ]
  },
  {
   "cell_type": "code",
   "execution_count": 33,
   "id": "0ce0ad87-1224-4a18-9425-17b17c1de9b0",
   "metadata": {},
   "outputs": [
    {
     "data": {
      "text/plain": [
       "array([[1],\n",
       "       [2],\n",
       "       [3],\n",
       "       [4],\n",
       "       [5]])"
      ]
     },
     "execution_count": 33,
     "metadata": {},
     "output_type": "execute_result"
    }
   ],
   "source": [
    "np.expand_dims(arr1, axis=1)"
   ]
  },
  {
   "cell_type": "code",
   "execution_count": 34,
   "id": "7333e84d-d090-495e-a124-79ff3d3e1a9a",
   "metadata": {},
   "outputs": [
    {
     "data": {
      "text/plain": [
       "array([[4, 2, 7, 3],\n",
       "       [4, 8, 9, 8],\n",
       "       [5, 5, 9, 7]])"
      ]
     },
     "execution_count": 34,
     "metadata": {},
     "output_type": "execute_result"
    }
   ],
   "source": [
    "arr"
   ]
  },
  {
   "cell_type": "code",
   "execution_count": 35,
   "id": "9234095c-c5b4-4bb0-abbd-31a8c1bef33e",
   "metadata": {},
   "outputs": [
    {
     "data": {
      "text/plain": [
       "array([[4, 2, 7, 3],\n",
       "       [4, 8, 9, 8],\n",
       "       [5, 5, 9, 7]])"
      ]
     },
     "execution_count": 35,
     "metadata": {},
     "output_type": "execute_result"
    }
   ],
   "source": [
    "np.squeeze(arr)"
   ]
  },
  {
   "cell_type": "code",
   "execution_count": 36,
   "id": "37ec8745-9723-4ad8-96bc-b0d1c9be7548",
   "metadata": {},
   "outputs": [],
   "source": [
    "data = np.array([[1] , [2] , [3]])"
   ]
  },
  {
   "cell_type": "code",
   "execution_count": 37,
   "id": "0f1b238b-3c52-4acf-9012-76d47dd84053",
   "metadata": {},
   "outputs": [
    {
     "data": {
      "text/plain": [
       "array([[1],\n",
       "       [2],\n",
       "       [3]])"
      ]
     },
     "execution_count": 37,
     "metadata": {},
     "output_type": "execute_result"
    }
   ],
   "source": [
    "data"
   ]
  },
  {
   "cell_type": "code",
   "execution_count": 38,
   "id": "6bcae896-f485-4139-b977-85d2a8da8779",
   "metadata": {},
   "outputs": [
    {
     "data": {
      "text/plain": [
       "array([1, 2, 3])"
      ]
     },
     "execution_count": 38,
     "metadata": {},
     "output_type": "execute_result"
    }
   ],
   "source": [
    "np.squeeze(data)"
   ]
  },
  {
   "cell_type": "code",
   "execution_count": 39,
   "id": "31addfbf-5c81-49a8-9a4d-f3c7d0e26b00",
   "metadata": {},
   "outputs": [
    {
     "data": {
      "text/plain": [
       "array([1, 2, 3, 4, 5])"
      ]
     },
     "execution_count": 39,
     "metadata": {},
     "output_type": "execute_result"
    }
   ],
   "source": [
    "arr1"
   ]
  },
  {
   "cell_type": "code",
   "execution_count": 40,
   "id": "3982a90e-9b4a-4491-b48b-b739902654ad",
   "metadata": {},
   "outputs": [
    {
     "data": {
      "text/plain": [
       "array([1, 1, 1, 2, 2, 2, 3, 3, 3, 4, 4, 4, 5, 5, 5])"
      ]
     },
     "execution_count": 40,
     "metadata": {},
     "output_type": "execute_result"
    }
   ],
   "source": [
    "np.repeat(arr1,3)"
   ]
  },
  {
   "cell_type": "code",
   "execution_count": 42,
   "id": "ba52b7e0-8020-4492-9fed-3af2ad6c0fc7",
   "metadata": {},
   "outputs": [
    {
     "data": {
      "text/plain": [
       "array([4, 5, 1, 2, 3])"
      ]
     },
     "execution_count": 42,
     "metadata": {},
     "output_type": "execute_result"
    }
   ],
   "source": [
    "np.roll(arr1 , 2)"
   ]
  },
  {
   "cell_type": "code",
   "execution_count": 44,
   "id": "ca56af81-c9e2-400a-9daf-34f66050464d",
   "metadata": {},
   "outputs": [
    {
     "data": {
      "text/plain": [
       "array([[1, 0, 0, 0, 0],\n",
       "       [0, 2, 0, 0, 0],\n",
       "       [0, 0, 3, 0, 0],\n",
       "       [0, 0, 0, 4, 0],\n",
       "       [0, 0, 0, 0, 5]])"
      ]
     },
     "execution_count": 44,
     "metadata": {},
     "output_type": "execute_result"
    }
   ],
   "source": [
    "np.diag(arr1)"
   ]
  },
  {
   "cell_type": "code",
   "execution_count": 45,
   "id": "9901051b-f548-4b5d-9385-f7b920c85f60",
   "metadata": {},
   "outputs": [],
   "source": [
    "#Numpy - Binary Operators."
   ]
  },
  {
   "cell_type": "code",
   "execution_count": 46,
   "id": "81d4e7ce-1bb2-435d-8645-8d6d41d87b5f",
   "metadata": {},
   "outputs": [],
   "source": [
    "arr1 = np.random.randint(1,10 , (3,4))"
   ]
  },
  {
   "cell_type": "code",
   "execution_count": 48,
   "id": "bdddf790-4e0c-4769-b7c0-e0d96f3eaeea",
   "metadata": {},
   "outputs": [],
   "source": [
    "arr2 = np.random.randint(1,10 , (3,4))"
   ]
  },
  {
   "cell_type": "code",
   "execution_count": 47,
   "id": "a258dcd7-9c91-466d-8718-8a37e0f8f546",
   "metadata": {},
   "outputs": [
    {
     "data": {
      "text/plain": [
       "array([[1, 7, 9, 7],\n",
       "       [9, 3, 4, 1],\n",
       "       [2, 2, 8, 1]])"
      ]
     },
     "execution_count": 47,
     "metadata": {},
     "output_type": "execute_result"
    }
   ],
   "source": [
    "arr1"
   ]
  },
  {
   "cell_type": "code",
   "execution_count": 49,
   "id": "492ccb9b-b0b6-474c-a851-afe37e3f4ed9",
   "metadata": {},
   "outputs": [
    {
     "data": {
      "text/plain": [
       "array([[3, 9, 4, 5],\n",
       "       [6, 1, 5, 8],\n",
       "       [8, 6, 9, 4]])"
      ]
     },
     "execution_count": 49,
     "metadata": {},
     "output_type": "execute_result"
    }
   ],
   "source": [
    "arr2"
   ]
  },
  {
   "cell_type": "code",
   "execution_count": 50,
   "id": "3fa36030-e351-4fa5-bf33-3260d94541bb",
   "metadata": {},
   "outputs": [
    {
     "data": {
      "text/plain": [
       "array([[ 4, 16, 13, 12],\n",
       "       [15,  4,  9,  9],\n",
       "       [10,  8, 17,  5]])"
      ]
     },
     "execution_count": 50,
     "metadata": {},
     "output_type": "execute_result"
    }
   ],
   "source": [
    "arr1+arr2"
   ]
  },
  {
   "cell_type": "code",
   "execution_count": 51,
   "id": "c5591d0a-d670-4ccd-88ea-4b9e2383caf1",
   "metadata": {},
   "outputs": [
    {
     "data": {
      "text/plain": [
       "array([[ 3, 63, 36, 35],\n",
       "       [54,  3, 20,  8],\n",
       "       [16, 12, 72,  4]])"
      ]
     },
     "execution_count": 51,
     "metadata": {},
     "output_type": "execute_result"
    }
   ],
   "source": [
    "arr1*arr2"
   ]
  },
  {
   "cell_type": "code",
   "execution_count": 52,
   "id": "0b1ca445-7d3d-48eb-86cf-ce58a1f55c37",
   "metadata": {},
   "outputs": [
    {
     "data": {
      "text/plain": [
       "array([[0.33333333, 0.77777778, 2.25      , 1.4       ],\n",
       "       [1.5       , 3.        , 0.8       , 0.125     ],\n",
       "       [0.25      , 0.33333333, 0.88888889, 0.25      ]])"
      ]
     },
     "execution_count": 52,
     "metadata": {},
     "output_type": "execute_result"
    }
   ],
   "source": [
    "arr1/arr2"
   ]
  },
  {
   "cell_type": "code",
   "execution_count": 53,
   "id": "2049cd51-b7db-45d7-8a87-0ffae8e38a9c",
   "metadata": {},
   "outputs": [
    {
     "data": {
      "text/plain": [
       "array([[-2, -2,  5,  2],\n",
       "       [ 3,  2, -1, -7],\n",
       "       [-6, -4, -1, -3]])"
      ]
     },
     "execution_count": 53,
     "metadata": {},
     "output_type": "execute_result"
    }
   ],
   "source": [
    "arr1-arr2"
   ]
  },
  {
   "cell_type": "code",
   "execution_count": 55,
   "id": "61bc8f69-ef87-475d-8435-fbe8a0d2d9b7",
   "metadata": {},
   "outputs": [
    {
     "data": {
      "text/plain": [
       "array([[1, 7, 1, 2],\n",
       "       [3, 0, 4, 1],\n",
       "       [2, 2, 8, 1]])"
      ]
     },
     "execution_count": 55,
     "metadata": {},
     "output_type": "execute_result"
    }
   ],
   "source": [
    "arr1%arr2"
   ]
  },
  {
   "cell_type": "code",
   "execution_count": 56,
   "id": "d11f0765-60cc-4fa3-8bf2-ba1e698194f3",
   "metadata": {},
   "outputs": [
    {
     "data": {
      "text/plain": [
       "array([[        1,  40353607,      6561,     16807],\n",
       "       [   531441,         3,      1024,         1],\n",
       "       [      256,        64, 134217728,         1]])"
      ]
     },
     "execution_count": 56,
     "metadata": {},
     "output_type": "execute_result"
    }
   ],
   "source": [
    "arr1**arr2"
   ]
  },
  {
   "cell_type": "code",
   "execution_count": 57,
   "id": "73cc8738-7a63-4960-b22a-730424392eb6",
   "metadata": {},
   "outputs": [
    {
     "data": {
      "text/plain": [
       "array([[1, 1, 0, 5],\n",
       "       [0, 1, 4, 0],\n",
       "       [0, 2, 8, 0]])"
      ]
     },
     "execution_count": 57,
     "metadata": {},
     "output_type": "execute_result"
    }
   ],
   "source": [
    "arr1&arr2"
   ]
  },
  {
   "cell_type": "code",
   "execution_count": 58,
   "id": "73f43e7c-98dd-4346-a36e-5a18c49f8f68",
   "metadata": {},
   "outputs": [
    {
     "data": {
      "text/plain": [
       "array([[ -2,  -8, -10,  -8],\n",
       "       [-10,  -4,  -5,  -2],\n",
       "       [ -3,  -3,  -9,  -2]])"
      ]
     },
     "execution_count": 58,
     "metadata": {},
     "output_type": "execute_result"
    }
   ],
   "source": [
    "~arr1"
   ]
  },
  {
   "cell_type": "code",
   "execution_count": 59,
   "id": "05acb44b-0cf7-454b-b737-09ff6bb48980",
   "metadata": {},
   "outputs": [
    {
     "data": {
      "text/plain": [
       "array([[ 3, 15, 13,  7],\n",
       "       [15,  3,  5,  9],\n",
       "       [10,  6,  9,  5]])"
      ]
     },
     "execution_count": 59,
     "metadata": {},
     "output_type": "execute_result"
    }
   ],
   "source": [
    "arr1|arr2"
   ]
  },
  {
   "cell_type": "code",
   "execution_count": 60,
   "id": "5e3b8de5-9440-47e0-b2e3-e1ee4f3816b6",
   "metadata": {},
   "outputs": [
    {
     "data": {
      "text/plain": [
       "array([[False, False,  True,  True],\n",
       "       [ True,  True, False, False],\n",
       "       [False, False, False, False]])"
      ]
     },
     "execution_count": 60,
     "metadata": {},
     "output_type": "execute_result"
    }
   ],
   "source": [
    "arr1>arr2"
   ]
  },
  {
   "cell_type": "code",
   "execution_count": 61,
   "id": "993e2ff9-3726-4351-941f-022985deb45b",
   "metadata": {},
   "outputs": [
    {
     "data": {
      "text/plain": [
       "array([[ True,  True, False, False],\n",
       "       [False, False,  True,  True],\n",
       "       [ True,  True,  True,  True]])"
      ]
     },
     "execution_count": 61,
     "metadata": {},
     "output_type": "execute_result"
    }
   ],
   "source": [
    "arr1<arr2"
   ]
  },
  {
   "cell_type": "code",
   "execution_count": 62,
   "id": "33cf82ef-1a66-45aa-ae2c-994d54efe7c0",
   "metadata": {},
   "outputs": [
    {
     "data": {
      "text/plain": [
       "array([[False, False, False, False],\n",
       "       [False, False, False, False],\n",
       "       [False, False, False, False]])"
      ]
     },
     "execution_count": 62,
     "metadata": {},
     "output_type": "execute_result"
    }
   ],
   "source": [
    "arr1==arr2"
   ]
  },
  {
   "cell_type": "code",
   "execution_count": 63,
   "id": "250eb092-c889-4065-9df3-044f171f37f0",
   "metadata": {},
   "outputs": [],
   "source": [
    "#Numpy - String Function"
   ]
  },
  {
   "cell_type": "code",
   "execution_count": 65,
   "id": "45549094-3810-498b-b78f-e90a8415d09c",
   "metadata": {},
   "outputs": [],
   "source": [
    "arr = np.array(['ganesh','gadkari'])"
   ]
  },
  {
   "cell_type": "code",
   "execution_count": 66,
   "id": "1f920bd3-5911-4579-9a93-80cc7857ab77",
   "metadata": {},
   "outputs": [
    {
     "data": {
      "text/plain": [
       "array(['ganesh', 'gadkari'], dtype='<U7')"
      ]
     },
     "execution_count": 66,
     "metadata": {},
     "output_type": "execute_result"
    }
   ],
   "source": [
    "arr"
   ]
  },
  {
   "cell_type": "code",
   "execution_count": 67,
   "id": "c8c0c837-1f25-4bc8-b3d4-12754703274a",
   "metadata": {},
   "outputs": [
    {
     "data": {
      "text/plain": [
       "array(['GANESH', 'GADKARI'], dtype='<U7')"
      ]
     },
     "execution_count": 67,
     "metadata": {},
     "output_type": "execute_result"
    }
   ],
   "source": [
    "np.char.upper(arr)"
   ]
  },
  {
   "cell_type": "code",
   "execution_count": 69,
   "id": "04e74267-7fc8-4350-9efc-f52779664243",
   "metadata": {},
   "outputs": [
    {
     "data": {
      "text/plain": [
       "array(['Ganesh', 'Gadkari'], dtype='<U7')"
      ]
     },
     "execution_count": 69,
     "metadata": {},
     "output_type": "execute_result"
    }
   ],
   "source": [
    "np.char.title(arr)"
   ]
  },
  {
   "cell_type": "code",
   "execution_count": 70,
   "id": "786b9940-7b53-4e13-a267-3eda05ccb101",
   "metadata": {},
   "outputs": [
    {
     "data": {
      "text/plain": [
       "array(['Ganesh', 'Gadkari'], dtype='<U7')"
      ]
     },
     "execution_count": 70,
     "metadata": {},
     "output_type": "execute_result"
    }
   ],
   "source": [
    "np.char.capitalize(arr)"
   ]
  },
  {
   "cell_type": "code",
   "execution_count": 71,
   "id": "4ec25abd-c88e-49cd-b1f1-fee73a659d6e",
   "metadata": {},
   "outputs": [],
   "source": [
    "#Numpy Matahamatical Functions."
   ]
  },
  {
   "cell_type": "code",
   "execution_count": 72,
   "id": "183cf49f-a994-42ed-9a28-f0ce24fd7b96",
   "metadata": {},
   "outputs": [
    {
     "data": {
      "text/plain": [
       "array([[1, 7, 9, 7],\n",
       "       [9, 3, 4, 1],\n",
       "       [2, 2, 8, 1]])"
      ]
     },
     "execution_count": 72,
     "metadata": {},
     "output_type": "execute_result"
    }
   ],
   "source": [
    "arr1"
   ]
  },
  {
   "cell_type": "code",
   "execution_count": 73,
   "id": "590dfd64-0eb6-4b7d-8dfb-9e9b422c4758",
   "metadata": {},
   "outputs": [
    {
     "data": {
      "text/plain": [
       "array([[ 0.84147098,  0.6569866 ,  0.41211849,  0.6569866 ],\n",
       "       [ 0.41211849,  0.14112001, -0.7568025 ,  0.84147098],\n",
       "       [ 0.90929743,  0.90929743,  0.98935825,  0.84147098]])"
      ]
     },
     "execution_count": 73,
     "metadata": {},
     "output_type": "execute_result"
    }
   ],
   "source": [
    "np.sin(arr1)"
   ]
  },
  {
   "cell_type": "code",
   "execution_count": 74,
   "id": "fc16f310-ec1b-4e55-aa26-2c673712a5e9",
   "metadata": {},
   "outputs": [
    {
     "data": {
      "text/plain": [
       "array([[ 0.54030231,  0.75390225, -0.91113026,  0.75390225],\n",
       "       [-0.91113026, -0.9899925 , -0.65364362,  0.54030231],\n",
       "       [-0.41614684, -0.41614684, -0.14550003,  0.54030231]])"
      ]
     },
     "execution_count": 74,
     "metadata": {},
     "output_type": "execute_result"
    }
   ],
   "source": [
    "np.cos(arr1)"
   ]
  },
  {
   "cell_type": "code",
   "execution_count": 75,
   "id": "9f2ebf03-b64f-4d1c-86c1-4d77a2d48f1b",
   "metadata": {},
   "outputs": [
    {
     "data": {
      "text/plain": [
       "array([[ 1.55740772,  0.87144798, -0.45231566,  0.87144798],\n",
       "       [-0.45231566, -0.14254654,  1.15782128,  1.55740772],\n",
       "       [-2.18503986, -2.18503986, -6.79971146,  1.55740772]])"
      ]
     },
     "execution_count": 75,
     "metadata": {},
     "output_type": "execute_result"
    }
   ],
   "source": [
    "np.tan(arr1)"
   ]
  },
  {
   "cell_type": "code",
   "execution_count": 76,
   "id": "a9965986-9fee-46c9-bd23-618c38cdf0ad",
   "metadata": {},
   "outputs": [
    {
     "data": {
      "text/plain": [
       "array([[0.76159416, 0.99999834, 0.99999997, 0.99999834],\n",
       "       [0.99999997, 0.99505475, 0.9993293 , 0.76159416],\n",
       "       [0.96402758, 0.96402758, 0.99999977, 0.76159416]])"
      ]
     },
     "execution_count": 76,
     "metadata": {},
     "output_type": "execute_result"
    }
   ],
   "source": [
    "np.tanh(arr1)"
   ]
  },
  {
   "cell_type": "code",
   "execution_count": 77,
   "id": "330aed83-7d39-4168-9d19-8c74cbdd05b4",
   "metadata": {},
   "outputs": [
    {
     "data": {
      "text/plain": [
       "array([[0.        , 0.84509804, 0.95424251, 0.84509804],\n",
       "       [0.95424251, 0.47712125, 0.60205999, 0.        ],\n",
       "       [0.30103   , 0.30103   , 0.90308999, 0.        ]])"
      ]
     },
     "execution_count": 77,
     "metadata": {},
     "output_type": "execute_result"
    }
   ],
   "source": [
    "np.log10(arr1)"
   ]
  },
  {
   "cell_type": "code",
   "execution_count": 78,
   "id": "b0d4a8e5-a9e9-4ced-a9b0-282471addbbb",
   "metadata": {},
   "outputs": [
    {
     "data": {
      "text/plain": [
       "array([[2.71828183e+00, 1.09663316e+03, 8.10308393e+03, 1.09663316e+03],\n",
       "       [8.10308393e+03, 2.00855369e+01, 5.45981500e+01, 2.71828183e+00],\n",
       "       [7.38905610e+00, 7.38905610e+00, 2.98095799e+03, 2.71828183e+00]])"
      ]
     },
     "execution_count": 78,
     "metadata": {},
     "output_type": "execute_result"
    }
   ],
   "source": [
    "np.exp(arr1)"
   ]
  },
  {
   "cell_type": "code",
   "execution_count": 79,
   "id": "c143b06f-f10a-48a9-9568-a0ec9408fb00",
   "metadata": {},
   "outputs": [
    {
     "data": {
      "text/plain": [
       "array([[1.        , 2.64575131, 3.        , 2.64575131],\n",
       "       [3.        , 1.73205081, 2.        , 1.        ],\n",
       "       [1.41421356, 1.41421356, 2.82842712, 1.        ]])"
      ]
     },
     "execution_count": 79,
     "metadata": {},
     "output_type": "execute_result"
    }
   ],
   "source": [
    "np.sqrt(arr1)"
   ]
  },
  {
   "cell_type": "code",
   "execution_count": 81,
   "id": "e61aeffa-d3d3-4b1b-b32c-dfa7d834dd7c",
   "metadata": {},
   "outputs": [
    {
     "data": {
      "text/plain": [
       "array([[ 1, 49, 81, 49],\n",
       "       [81,  9, 16,  1],\n",
       "       [ 4,  4, 64,  1]])"
      ]
     },
     "execution_count": 81,
     "metadata": {},
     "output_type": "execute_result"
    }
   ],
   "source": [
    "np.power(arr1,2)"
   ]
  },
  {
   "cell_type": "code",
   "execution_count": 82,
   "id": "ea6f3b6a-ea99-48b3-a408-0147bf45e879",
   "metadata": {},
   "outputs": [
    {
     "data": {
      "text/plain": [
       "4.5"
      ]
     },
     "execution_count": 82,
     "metadata": {},
     "output_type": "execute_result"
    }
   ],
   "source": [
    "np.mean(arr1)"
   ]
  },
  {
   "cell_type": "code",
   "execution_count": 83,
   "id": "1366b43d-346f-4c50-aa8f-65b4679cb610",
   "metadata": {},
   "outputs": [
    {
     "data": {
      "text/plain": [
       "3.5"
      ]
     },
     "execution_count": 83,
     "metadata": {},
     "output_type": "execute_result"
    }
   ],
   "source": [
    "np.median(arr1)"
   ]
  },
  {
   "cell_type": "code",
   "execution_count": 86,
   "id": "859fb1bf-1d2c-447f-8414-3fe6543f2ca7",
   "metadata": {},
   "outputs": [
    {
     "data": {
      "text/plain": [
       "3.122498999199199"
      ]
     },
     "execution_count": 86,
     "metadata": {},
     "output_type": "execute_result"
    }
   ],
   "source": [
    "np.std(arr1)"
   ]
  },
  {
   "cell_type": "code",
   "execution_count": 87,
   "id": "73663989-d77e-4d75-8650-e11a32288ea4",
   "metadata": {},
   "outputs": [
    {
     "data": {
      "text/plain": [
       "9.75"
      ]
     },
     "execution_count": 87,
     "metadata": {},
     "output_type": "execute_result"
    }
   ],
   "source": [
    "np.var(arr1)"
   ]
  },
  {
   "cell_type": "code",
   "execution_count": 88,
   "id": "4c59e703-dc58-4b66-b6d0-d4f6112e8bb7",
   "metadata": {},
   "outputs": [
    {
     "data": {
      "text/plain": [
       "1"
      ]
     },
     "execution_count": 88,
     "metadata": {},
     "output_type": "execute_result"
    }
   ],
   "source": [
    "np.min(arr1)"
   ]
  },
  {
   "cell_type": "code",
   "execution_count": 90,
   "id": "beb6b3e9-54a2-4294-b095-3ec497792a06",
   "metadata": {},
   "outputs": [
    {
     "data": {
      "text/plain": [
       "9"
      ]
     },
     "execution_count": 90,
     "metadata": {},
     "output_type": "execute_result"
    }
   ],
   "source": [
    "np.max(arr1)"
   ]
  },
  {
   "cell_type": "code",
   "execution_count": null,
   "id": "34621b45-7fc0-4a28-a226-0f8387737535",
   "metadata": {},
   "outputs": [],
   "source": []
  }
 ],
 "metadata": {
  "kernelspec": {
   "display_name": "Python 3 (ipykernel)",
   "language": "python",
   "name": "python3"
  },
  "language_info": {
   "codemirror_mode": {
    "name": "ipython",
    "version": 3
   },
   "file_extension": ".py",
   "mimetype": "text/x-python",
   "name": "python",
   "nbconvert_exporter": "python",
   "pygments_lexer": "ipython3",
   "version": "3.10.8"
  }
 },
 "nbformat": 4,
 "nbformat_minor": 5
}
